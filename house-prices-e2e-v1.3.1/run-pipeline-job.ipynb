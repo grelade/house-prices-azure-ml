{
 "cells": [
  {
   "cell_type": "code",
   "execution_count": 30,
   "metadata": {},
   "outputs": [],
   "source": [
    "from pathlib import Path\n",
    "\n",
    "from azure.identity import DefaultAzureCredential\n",
    "from azure.ai.ml import MLClient\n",
    "from azure.ai.ml import load_component\n",
    "from azure.ai.ml import Input\n",
    "from azure.ai.ml.constants import AssetTypes\n",
    "from azure.ai.ml.dsl import pipeline\n"
   ]
  },
  {
   "cell_type": "code",
   "execution_count": 47,
   "metadata": {},
   "outputs": [
    {
     "name": "stderr",
     "output_type": "stream",
     "text": [
      "Found the config file in: /config.json\n"
     ]
    }
   ],
   "source": [
    "credential = DefaultAzureCredential()\n",
    "credential.get_token(\"https://management.azure.com/.default\")\n",
    "\n",
    "ml_client = MLClient.from_config(credential=credential)\n"
   ]
  },
  {
   "cell_type": "code",
   "execution_count": 110,
   "metadata": {},
   "outputs": [],
   "source": [
    "!source prep-srcs.sh\n"
   ]
  },
  {
   "cell_type": "code",
   "execution_count": 117,
   "metadata": {},
   "outputs": [],
   "source": [
    "component_yaml_dir = Path(\"components\")\n",
    "\n",
    "data_prep = load_component(source = component_yaml_dir / 'data_prep' / \"data_prep.yml\")\n",
    "train_kernelridge = load_component(source = component_yaml_dir / 'train_kernelridge' / \"train_kernelridge.yml\")\n"
   ]
  },
  {
   "cell_type": "code",
   "execution_count": 120,
   "metadata": {},
   "outputs": [],
   "source": [
    "@pipeline()\n",
    "def house_prices_pipeline(data_dir, kernel):\n",
    "\n",
    "    data_prep_result = data_prep(data_dir = data_dir)\n",
    "    prep_data_dir = data_prep_result.outputs.prep_data_dir\n",
    "\n",
    "    train_kernelridge_result = train_kernelridge(prep_data_dir = prep_data_dir, kernel = kernel)\n",
    "\n",
    "    return {\n",
    "        \"prep_data_dir\": data_prep_result.outputs.prep_data_dir,\n",
    "        \"results_dir\": train_kernelridge_result.outputs.results_dir\n",
    "    }\n"
   ]
  },
  {
   "cell_type": "code",
   "execution_count": 121,
   "metadata": {},
   "outputs": [],
   "source": [
    "data_dir = Input(type=AssetTypes.URI_FOLDER, path=\"azureml:data-dir:1\")\n",
    "kernel = 'linear'\n",
    "\n",
    "pipeline_job = house_prices_pipeline(data_dir = data_dir,\n",
    "                                     kernel = kernel)\n"
   ]
  },
  {
   "cell_type": "code",
   "execution_count": 122,
   "metadata": {},
   "outputs": [],
   "source": [
    "pipeline_job.outputs.prep_data_dir.mode = 'upload'\n",
    "pipeline_job.outputs.results_dir.mode = 'upload'\n",
    "\n",
    "pipeline_job.settings.default_compute = \"aml-cluster\"\n",
    "pipeline_job.settings.default_datastore = \"workspaceblobstore\"\n"
   ]
  },
  {
   "cell_type": "code",
   "execution_count": 123,
   "metadata": {},
   "outputs": [
    {
     "name": "stderr",
     "output_type": "stream",
     "text": [
      "pathOnCompute is not a known attribute of class <class 'azure.ai.ml._restclient.v2023_04_01_preview.models._models_py3.UriFolderJobOutput'> and will be ignored\n",
      "pathOnCompute is not a known attribute of class <class 'azure.ai.ml._restclient.v2023_04_01_preview.models._models_py3.UriFolderJobOutput'> and will be ignored\n"
     ]
    },
    {
     "data": {
      "text/html": [
       "<table style=\"width:100%\"><tr><th>Experiment</th><th>Name</th><th>Type</th><th>Status</th><th>Details Page</th></tr><tr><td>pipeline_house_prices</td><td>tidy_root_1z74zpttwj</td><td>pipeline</td><td>NotStarted</td><td><a href=\"https://ml.azure.com/runs/tidy_root_1z74zpttwj?wsid=/subscriptions/ad5c3a0e-2e80-43f8-a0e0-2cb6463d9e1e/resourcegroups/rg-house-prices-e2e/workspaces/mlw-house-prices-e2e-zaq12wsx&amp;tid=6f2cb654-d755-4b1d-b2c4-b18e5c3e2442\" target=\"_blank\" rel=\"noopener\">Link to Azure Machine Learning studio</a></td></tr></table>"
      ],
      "text/plain": [
       "PipelineJob({'inputs': {'data_dir': <azure.ai.ml.entities._job.pipeline._io.base.PipelineInput object at 0x7f6f975dc190>, 'kernel': <azure.ai.ml.entities._job.pipeline._io.base.PipelineInput object at 0x7f6f975dc940>}, 'outputs': {'prep_data_dir': <azure.ai.ml.entities._job.pipeline._io.base.PipelineOutput object at 0x7f6f975dc1c0>, 'results_dir': <azure.ai.ml.entities._job.pipeline._io.base.PipelineOutput object at 0x7f6f6c8a3b80>}, 'jobs': {}, 'component': PipelineComponent({'latest_version': None, 'intellectual_property': None, 'auto_increment_version': False, 'source': 'REMOTE.WORKSPACE.JOB', 'is_anonymous': True, 'auto_delete_setting': None, 'name': 'azureml_anonymous', 'description': None, 'tags': {}, 'properties': {}, 'print_as_yaml': False, 'id': None, 'Resource__source_path': None, 'base_path': '/mnt/batch/tasks/shared/LS_root/mounts/clusters/ci-zaq12wsx/code/Users/jacekgrela/house-prices-azure-ml/house-prices-e2e-v2.4', 'creation_context': None, 'serialize': <msrest.serialization.Serializer object at 0x7f6f7e5d6250>, 'version': '1', 'schema': None, 'type': 'pipeline', 'display_name': 'house_prices_pipeline', 'is_deterministic': None, 'inputs': {'data_dir': {}, 'kernel': {}}, 'outputs': {'prep_data_dir': {}, 'results_dir': {}}, 'yaml_str': None, 'other_parameter': {}, 'jobs': {'data_prep_result': Command({'parameters': {}, 'init': False, 'name': 'data_prep_result', 'type': 'command', 'status': None, 'log_files': None, 'description': None, 'tags': {}, 'properties': {}, 'print_as_yaml': False, 'id': None, 'Resource__source_path': '', 'base_path': '/mnt/batch/tasks/shared/LS_root/mounts/clusters/ci-zaq12wsx/code/Users/jacekgrela/house-prices-azure-ml/house-prices-e2e-v2.4', 'creation_context': None, 'serialize': <msrest.serialization.Serializer object at 0x7f6f833831c0>, 'allowed_keys': {}, 'key_restriction': False, 'logger': <TraceLogger attr_dict (WARNING)>, 'display_name': None, 'experiment_name': None, 'compute': None, 'services': None, 'comment': None, 'job_inputs': {'data_dir': '${{parent.inputs.data_dir}}'}, 'job_outputs': {'prep_data_dir': '${{parent.outputs.prep_data_dir}}'}, 'inputs': {'data_dir': <azure.ai.ml.entities._job.pipeline._io.base.NodeInput object at 0x7f6f7e5d68e0>}, 'outputs': {'prep_data_dir': <azure.ai.ml.entities._job.pipeline._io.base.NodeOutput object at 0x7f6f7ef0b1c0>}, 'component': 'azureml_anonymous:9f7f936b-8d40-46c2-ba24-acf03accb8b7', 'referenced_control_flow_node_instance_id': None, 'kwargs': {'services': None}, 'instance_id': 'eae52ca2-98a3-4982-bf81-cfcb44b15927', 'source': 'YAML.COMPONENT', 'validate_required_input_not_provided': True, 'limits': None, 'identity': None, 'distribution': None, 'environment_variables': {}, 'environment': None, 'resources': None, 'queue_settings': None, 'swept': False}), 'train_kernelridge_result': Command({'parameters': {}, 'init': False, 'name': 'train_kernelridge_result', 'type': 'command', 'status': None, 'log_files': None, 'description': None, 'tags': {}, 'properties': {}, 'print_as_yaml': False, 'id': None, 'Resource__source_path': '', 'base_path': '/mnt/batch/tasks/shared/LS_root/mounts/clusters/ci-zaq12wsx/code/Users/jacekgrela/house-prices-azure-ml/house-prices-e2e-v2.4', 'creation_context': None, 'serialize': <msrest.serialization.Serializer object at 0x7f6f7e5d61c0>, 'allowed_keys': {}, 'key_restriction': False, 'logger': <TraceLogger attr_dict (WARNING)>, 'display_name': None, 'experiment_name': None, 'compute': None, 'services': None, 'comment': None, 'job_inputs': {'prep_data_dir': '${{parent.jobs.data_prep_result.outputs.prep_data_dir}}', 'kernel': '${{parent.inputs.kernel}}'}, 'job_outputs': {'results_dir': '${{parent.outputs.results_dir}}'}, 'inputs': {'prep_data_dir': <azure.ai.ml.entities._job.pipeline._io.base.NodeInput object at 0x7f6f7e5d6730>, 'kernel': <azure.ai.ml.entities._job.pipeline._io.base.NodeInput object at 0x7f6f7e5d6e20>}, 'outputs': {'results_dir': <azure.ai.ml.entities._job.pipeline._io.base.NodeOutput object at 0x7f6f7e5d6e50>}, 'component': 'azureml_anonymous:3abea80c-14cf-4edd-a568-4d6bdc49e680', 'referenced_control_flow_node_instance_id': None, 'kwargs': {'services': None}, 'instance_id': '3a53dea1-5459-41a9-8aa2-f69d16082683', 'source': 'YAML.COMPONENT', 'validate_required_input_not_provided': True, 'limits': None, 'identity': None, 'distribution': None, 'environment_variables': {}, 'environment': None, 'resources': None, 'queue_settings': None, 'swept': False})}, 'job_types': {'command': 2}, 'job_sources': {'YAML.COMPONENT': 2}, 'source_job_id': None}), 'type': 'pipeline', 'status': 'NotStarted', 'log_files': None, 'name': 'tidy_root_1z74zpttwj', 'description': None, 'tags': {}, 'properties': {}, 'print_as_yaml': False, 'id': '/subscriptions/ad5c3a0e-2e80-43f8-a0e0-2cb6463d9e1e/resourceGroups/rg-house-prices-e2e/providers/Microsoft.MachineLearningServices/workspaces/mlw-house-prices-e2e-zaq12wsx/jobs/tidy_root_1z74zpttwj', 'Resource__source_path': '', 'base_path': '/mnt/batch/tasks/shared/LS_root/mounts/clusters/ci-zaq12wsx/code/Users/jacekgrela/house-prices-azure-ml/house-prices-e2e-v2.4', 'creation_context': <azure.ai.ml.entities._system_data.SystemData object at 0x7f6f975dca30>, 'serialize': <msrest.serialization.Serializer object at 0x7f6f6c8a3bb0>, 'display_name': 'house_prices_pipeline', 'experiment_name': 'pipeline_house_prices', 'compute': None, 'services': {'Tracking': {'endpoint': 'azureml://polandcentral.api.azureml.ms/mlflow/v1.0/subscriptions/ad5c3a0e-2e80-43f8-a0e0-2cb6463d9e1e/resourceGroups/rg-house-prices-e2e/providers/Microsoft.MachineLearningServices/workspaces/mlw-house-prices-e2e-zaq12wsx?', 'type': 'Tracking'}, 'Studio': {'endpoint': 'https://ml.azure.com/runs/tidy_root_1z74zpttwj?wsid=/subscriptions/ad5c3a0e-2e80-43f8-a0e0-2cb6463d9e1e/resourcegroups/rg-house-prices-e2e/workspaces/mlw-house-prices-e2e-zaq12wsx&tid=6f2cb654-d755-4b1d-b2c4-b18e5c3e2442', 'type': 'Studio'}}, 'settings': {}, 'identity': None, 'default_code': None, 'default_environment': None})"
      ]
     },
     "execution_count": 123,
     "metadata": {},
     "output_type": "execute_result"
    }
   ],
   "source": [
    "# submit job to workspace\n",
    "pipeline_job = ml_client.jobs.create_or_update(\n",
    "    pipeline_job, experiment_name=\"pipeline_house_prices\"\n",
    ")\n",
    "pipeline_job\n"
   ]
  }
 ],
 "metadata": {
  "kernelspec": {
   "display_name": "Python 3.8 - AzureML",
   "language": "python",
   "name": "python38-azureml"
  },
  "language_info": {
   "codemirror_mode": {
    "name": "ipython",
    "version": 3
   },
   "file_extension": ".py",
   "mimetype": "text/x-python",
   "name": "python",
   "nbconvert_exporter": "python",
   "pygments_lexer": "ipython3",
   "version": "3.9.19"
  }
 },
 "nbformat": 4,
 "nbformat_minor": 2
}
