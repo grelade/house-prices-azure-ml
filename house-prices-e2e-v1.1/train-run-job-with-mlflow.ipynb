{
  "cells": [
    {
      "cell_type": "code",
      "source": [
        "!pip install mlflow"
      ],
      "outputs": [
        {
          "output_type": "stream",
          "name": "stdout",
          "text": "Collecting mlflow\n  Downloading mlflow-2.16.0-py3-none-any.whl (26.6 MB)\n\u001b[2K     \u001b[90m━━━━━━━━━━━━━━━━━━━━━━━━━━━━━━━━━━━━━━━━\u001b[0m \u001b[32m26.6/26.6 MB\u001b[0m \u001b[31m50.4 MB/s\u001b[0m eta \u001b[36m0:00:00\u001b[0m00:01\u001b[0m00:01\u001b[0m\n\u001b[?25hCollecting graphene<4\n  Downloading graphene-3.3-py2.py3-none-any.whl (128 kB)\n\u001b[2K     \u001b[90m━━━━━━━━━━━━━━━━━━━━━━━━━━━━━━━━━━━━━━━\u001b[0m \u001b[32m128.2/128.2 kB\u001b[0m \u001b[31m1.7 MB/s\u001b[0m eta \u001b[36m0:00:00\u001b[0ma \u001b[36m0:00:01\u001b[0m\n\u001b[?25hRequirement already satisfied: scikit-learn<2 in /anaconda/envs/azureml_py38/lib/python3.9/site-packages (from mlflow) (1.1.3)\nRequirement already satisfied: pyarrow<18,>=4.0.0 in /anaconda/envs/azureml_py38/lib/python3.9/site-packages (from mlflow) (14.0.2)\nRequirement already satisfied: Jinja2<4,>=2.11 in /anaconda/envs/azureml_py38/lib/python3.9/site-packages (from mlflow) (2.11.2)\nRequirement already satisfied: markdown<4,>=3.3 in /anaconda/envs/azureml_py38/lib/python3.9/site-packages (from mlflow) (3.6)\nCollecting mlflow-skinny==2.16.0\n  Downloading mlflow_skinny-2.16.0-py3-none-any.whl (5.6 MB)\n\u001b[2K     \u001b[90m━━━━━━━━━━━━━━━━━━━━━━━━━━━━━━━━━━━━━━━━\u001b[0m \u001b[32m5.6/5.6 MB\u001b[0m \u001b[31m87.3 MB/s\u001b[0m eta \u001b[36m0:00:00\u001b[0m:00:01\u001b[0m\n\u001b[?25hRequirement already satisfied: numpy<3 in /anaconda/envs/azureml_py38/lib/python3.9/site-packages (from mlflow) (1.23.5)\nRequirement already satisfied: pandas<3 in /anaconda/envs/azureml_py38/lib/python3.9/site-packages (from mlflow) (1.3.5)\nRequirement already satisfied: Flask<4 in /anaconda/envs/azureml_py38/lib/python3.9/site-packages (from mlflow) (2.2.5)\nCollecting alembic!=1.10.0,<2\n  Downloading alembic-1.13.2-py3-none-any.whl (232 kB)\n\u001b[2K     \u001b[90m━━━━━━━━━━━━━━━━━━━━━━━━━━━━━━━━━━━━━━\u001b[0m \u001b[32m233.0/233.0 kB\u001b[0m \u001b[31m15.6 MB/s\u001b[0m eta \u001b[36m0:00:00\u001b[0m\n\u001b[?25hRequirement already satisfied: scipy<2 in /anaconda/envs/azureml_py38/lib/python3.9/site-packages (from mlflow) (1.5.3)\nCollecting sqlalchemy<3,>=1.4.0\n  Downloading SQLAlchemy-2.0.34-cp39-cp39-manylinux_2_17_x86_64.manylinux2014_x86_64.whl (3.1 MB)\n\u001b[2K     \u001b[90m━━━━━━━━━━━━━━━━━━━━━━━━━━━━━━━━━━━━━━━━\u001b[0m \u001b[32m3.1/3.1 MB\u001b[0m \u001b[31m82.6 MB/s\u001b[0m eta \u001b[36m0:00:00\u001b[0m:00:01\u001b[0m\n\u001b[?25hRequirement already satisfied: docker<8,>=4.0.0 in /anaconda/envs/azureml_py38/lib/python3.9/site-packages (from mlflow) (7.0.0)\nRequirement already satisfied: matplotlib<4 in /anaconda/envs/azureml_py38/lib/python3.9/site-packages (from mlflow) (3.2.1)\nRequirement already satisfied: gunicorn<24 in /anaconda/envs/azureml_py38/lib/python3.9/site-packages (from mlflow) (20.1.0)\nRequirement already satisfied: packaging<25 in /anaconda/envs/azureml_py38/lib/python3.9/site-packages (from mlflow-skinny==2.16.0->mlflow) (24.0)\nRequirement already satisfied: cachetools<6,>=5.0.0 in /anaconda/envs/azureml_py38/lib/python3.9/site-packages (from mlflow-skinny==2.16.0->mlflow) (5.3.3)\nRequirement already satisfied: protobuf<6,>=3.12.0 in /anaconda/envs/azureml_py38/lib/python3.9/site-packages (from mlflow-skinny==2.16.0->mlflow) (3.20.3)\nRequirement already satisfied: pyyaml<7,>=5.1 in /anaconda/envs/azureml_py38/lib/python3.9/site-packages (from mlflow-skinny==2.16.0->mlflow) (6.0.1)\nCollecting opentelemetry-sdk<3,>=1.9.0\n  Downloading opentelemetry_sdk-1.27.0-py3-none-any.whl (110 kB)\n\u001b[2K     \u001b[90m━━━━━━━━━━━━━━━━━━━━━━━━━━━━━━━━━━━━━━\u001b[0m \u001b[32m110.5/110.5 kB\u001b[0m \u001b[31m11.9 MB/s\u001b[0m eta \u001b[36m0:00:00\u001b[0m\n\u001b[?25hCollecting databricks-sdk<1,>=0.20.0\n  Downloading databricks_sdk-0.32.0-py3-none-any.whl (551 kB)\n\u001b[2K     \u001b[90m━━━━━━━━━━━━━━━━━━━━━━━━━━━━━━━━━━━━━━\u001b[0m \u001b[32m552.0/552.0 kB\u001b[0m \u001b[31m45.4 MB/s\u001b[0m eta \u001b[36m0:00:00\u001b[0m\n\u001b[?25hRequirement already satisfied: importlib-metadata!=4.7.0,<9,>=3.7.0 in /anaconda/envs/azureml_py38/lib/python3.9/site-packages (from mlflow-skinny==2.16.0->mlflow) (7.1.0)\nRequirement already satisfied: gitpython<4,>=3.1.9 in /anaconda/envs/azureml_py38/lib/python3.9/site-packages (from mlflow-skinny==2.16.0->mlflow) (3.1.43)\nRequirement already satisfied: requests<3,>=2.17.3 in /anaconda/envs/azureml_py38/lib/python3.9/site-packages (from mlflow-skinny==2.16.0->mlflow) (2.31.0)\nRequirement already satisfied: click<9,>=7.0 in /anaconda/envs/azureml_py38/lib/python3.9/site-packages (from mlflow-skinny==2.16.0->mlflow) (8.1.7)\nCollecting opentelemetry-api<3,>=1.9.0\n  Downloading opentelemetry_api-1.27.0-py3-none-any.whl (63 kB)\n\u001b[2K     \u001b[90m━━━━━━━━━━━━━━━━━━━━━━━━━━━━━━━━━━━━━━━━\u001b[0m \u001b[32m64.0/64.0 kB\u001b[0m \u001b[31m6.0 MB/s\u001b[0m eta \u001b[36m0:00:00\u001b[0m\n\u001b[?25hRequirement already satisfied: sqlparse<1,>=0.4.0 in /anaconda/envs/azureml_py38/lib/python3.9/site-packages (from mlflow-skinny==2.16.0->mlflow) (0.5.0)\nRequirement already satisfied: cloudpickle<4 in /anaconda/envs/azureml_py38/lib/python3.9/site-packages (from mlflow-skinny==2.16.0->mlflow) (1.6.0)\nCollecting Mako\n  Downloading Mako-1.3.5-py3-none-any.whl (78 kB)\n\u001b[2K     \u001b[90m━━━━━━━━━━━━━━━━━━━━━━━━━━━━━━━━━━━━━━━━\u001b[0m \u001b[32m78.6/78.6 kB\u001b[0m \u001b[31m10.0 MB/s\u001b[0m eta \u001b[36m0:00:00\u001b[0m\n\u001b[?25hRequirement already satisfied: typing-extensions>=4 in /anaconda/envs/azureml_py38/lib/python3.9/site-packages (from alembic!=1.10.0,<2->mlflow) (4.12.2)\nRequirement already satisfied: urllib3>=1.26.0 in /anaconda/envs/azureml_py38/lib/python3.9/site-packages (from docker<8,>=4.0.0->mlflow) (1.26.18)\nCollecting Jinja2<4,>=2.11\n  Downloading jinja2-3.1.4-py3-none-any.whl (133 kB)\n\u001b[2K     \u001b[90m━━━━━━━━━━━━━━━━━━━━━━━━━━━━━━━━━━━━━━\u001b[0m \u001b[32m133.3/133.3 kB\u001b[0m \u001b[31m14.6 MB/s\u001b[0m eta \u001b[36m0:00:00\u001b[0m\n\u001b[?25hRequirement already satisfied: itsdangerous>=2.0 in /anaconda/envs/azureml_py38/lib/python3.9/site-packages (from Flask<4->mlflow) (2.1.2)\nRequirement already satisfied: Werkzeug>=2.2.2 in /anaconda/envs/azureml_py38/lib/python3.9/site-packages (from Flask<4->mlflow) (2.2.3)\nCollecting aniso8601<10,>=8\n  Downloading aniso8601-9.0.1-py2.py3-none-any.whl (52 kB)\n\u001b[2K     \u001b[90m━━━━━━━━━━━━━━━━━━━━━━━━━━━━━━━━━━━━━━━━\u001b[0m \u001b[32m52.8/52.8 kB\u001b[0m \u001b[31m6.7 MB/s\u001b[0m eta \u001b[36m0:00:00\u001b[0m\n\u001b[?25hCollecting graphql-core<3.3,>=3.1\n  Downloading graphql_core-3.2.4-py3-none-any.whl (203 kB)\n\u001b[2K     \u001b[90m━━━━━━━━━━━━━━━━━━━━━━━━━━━━━━━━━━━━━━\u001b[0m \u001b[32m203.2/203.2 kB\u001b[0m \u001b[31m22.3 MB/s\u001b[0m eta \u001b[36m0:00:00\u001b[0m\n\u001b[?25hCollecting graphql-relay<3.3,>=3.1\n  Downloading graphql_relay-3.2.0-py3-none-any.whl (16 kB)\nRequirement already satisfied: setuptools>=3.0 in /anaconda/envs/azureml_py38/lib/python3.9/site-packages (from gunicorn<24->mlflow) (68.0.0)\nRequirement already satisfied: MarkupSafe>=2.0 in /anaconda/envs/azureml_py38/lib/python3.9/site-packages (from Jinja2<4,>=2.11->mlflow) (2.0.1)\nRequirement already satisfied: cycler>=0.10 in /anaconda/envs/azureml_py38/lib/python3.9/site-packages (from matplotlib<4->mlflow) (0.12.1)\nRequirement already satisfied: pyparsing!=2.0.4,!=2.1.2,!=2.1.6,>=2.0.1 in /anaconda/envs/azureml_py38/lib/python3.9/site-packages (from matplotlib<4->mlflow) (3.1.2)\nRequirement already satisfied: kiwisolver>=1.0.1 in /anaconda/envs/azureml_py38/lib/python3.9/site-packages (from matplotlib<4->mlflow) (1.4.5)\nRequirement already satisfied: python-dateutil>=2.1 in /anaconda/envs/azureml_py38/lib/python3.9/site-packages (from matplotlib<4->mlflow) (2.9.0.post0)\nRequirement already satisfied: pytz>=2017.3 in /anaconda/envs/azureml_py38/lib/python3.9/site-packages (from pandas<3->mlflow) (2022.5)\nRequirement already satisfied: joblib>=1.0.0 in /anaconda/envs/azureml_py38/lib/python3.9/site-packages (from scikit-learn<2->mlflow) (1.2.0)\nRequirement already satisfied: threadpoolctl>=2.0.0 in /anaconda/envs/azureml_py38/lib/python3.9/site-packages (from scikit-learn<2->mlflow) (3.4.0)\nRequirement already satisfied: greenlet!=0.4.17 in /anaconda/envs/azureml_py38/lib/python3.9/site-packages (from sqlalchemy<3,>=1.4.0->mlflow) (3.0.3)\nRequirement already satisfied: google-auth~=2.0 in /anaconda/envs/azureml_py38/lib/python3.9/site-packages (from databricks-sdk<1,>=0.20.0->mlflow-skinny==2.16.0->mlflow) (2.29.0)\nRequirement already satisfied: gitdb<5,>=4.0.1 in /anaconda/envs/azureml_py38/lib/python3.9/site-packages (from gitpython<4,>=3.1.9->mlflow-skinny==2.16.0->mlflow) (4.0.11)\nRequirement already satisfied: zipp>=0.5 in /anaconda/envs/azureml_py38/lib/python3.9/site-packages (from importlib-metadata!=4.7.0,<9,>=3.7.0->mlflow-skinny==2.16.0->mlflow) (3.12.0)\nRequirement already satisfied: deprecated>=1.2.6 in /anaconda/envs/azureml_py38/lib/python3.9/site-packages (from opentelemetry-api<3,>=1.9.0->mlflow-skinny==2.16.0->mlflow) (1.2.14)\nCollecting opentelemetry-semantic-conventions==0.48b0\n  Downloading opentelemetry_semantic_conventions-0.48b0-py3-none-any.whl (149 kB)\n\u001b[2K     \u001b[90m━━━━━━━━━━━━━━━━━━━━━━━━━━━━━━━━━━━━━━\u001b[0m \u001b[32m149.7/149.7 kB\u001b[0m \u001b[31m14.2 MB/s\u001b[0m eta \u001b[36m0:00:00\u001b[0m\n\u001b[?25hRequirement already satisfied: six>=1.5 in /anaconda/envs/azureml_py38/lib/python3.9/site-packages (from python-dateutil>=2.1->matplotlib<4->mlflow) (1.16.0)\nRequirement already satisfied: charset-normalizer<4,>=2 in /anaconda/envs/azureml_py38/lib/python3.9/site-packages (from requests<3,>=2.17.3->mlflow-skinny==2.16.0->mlflow) (3.3.2)\nRequirement already satisfied: certifi>=2017.4.17 in /anaconda/envs/azureml_py38/lib/python3.9/site-packages (from requests<3,>=2.17.3->mlflow-skinny==2.16.0->mlflow) (2022.9.24)\nRequirement already satisfied: idna<4,>=2.5 in /anaconda/envs/azureml_py38/lib/python3.9/site-packages (from requests<3,>=2.17.3->mlflow-skinny==2.16.0->mlflow) (3.7)\nCollecting MarkupSafe>=2.0\n  Downloading MarkupSafe-2.1.5-cp39-cp39-manylinux_2_17_x86_64.manylinux2014_x86_64.whl (25 kB)\nRequirement already satisfied: wrapt<2,>=1.10 in /anaconda/envs/azureml_py38/lib/python3.9/site-packages (from deprecated>=1.2.6->opentelemetry-api<3,>=1.9.0->mlflow-skinny==2.16.0->mlflow) (1.16.0)\nRequirement already satisfied: smmap<6,>=3.0.1 in /anaconda/envs/azureml_py38/lib/python3.9/site-packages (from gitdb<5,>=4.0.1->gitpython<4,>=3.1.9->mlflow-skinny==2.16.0->mlflow) (5.0.1)\nRequirement already satisfied: rsa<5,>=3.1.4 in /anaconda/envs/azureml_py38/lib/python3.9/site-packages (from google-auth~=2.0->databricks-sdk<1,>=0.20.0->mlflow-skinny==2.16.0->mlflow) (4.9)\nRequirement already satisfied: pyasn1-modules>=0.2.1 in /anaconda/envs/azureml_py38/lib/python3.9/site-packages (from google-auth~=2.0->databricks-sdk<1,>=0.20.0->mlflow-skinny==2.16.0->mlflow) (0.4.0)\nRequirement already satisfied: pyasn1<0.7.0,>=0.4.6 in /anaconda/envs/azureml_py38/lib/python3.9/site-packages (from pyasn1-modules>=0.2.1->google-auth~=2.0->databricks-sdk<1,>=0.20.0->mlflow-skinny==2.16.0->mlflow) (0.6.0)\nInstalling collected packages: aniso8601, sqlalchemy, MarkupSafe, graphql-core, opentelemetry-api, Mako, Jinja2, graphql-relay, opentelemetry-semantic-conventions, graphene, databricks-sdk, alembic, opentelemetry-sdk, mlflow-skinny, mlflow\n  Attempting uninstall: MarkupSafe\n    Found existing installation: MarkupSafe 2.0.1\n    Uninstalling MarkupSafe-2.0.1:\n      Successfully uninstalled MarkupSafe-2.0.1\n  Attempting uninstall: Jinja2\n    Found existing installation: Jinja2 2.11.2\n    Uninstalling Jinja2-2.11.2:\n      Successfully uninstalled Jinja2-2.11.2\n  Attempting uninstall: mlflow-skinny\n    Found existing installation: mlflow-skinny 2.12.1\n    Uninstalling mlflow-skinny-2.12.1:\n      Successfully uninstalled mlflow-skinny-2.12.1\n\u001b[31mERROR: pip's dependency resolver does not currently take into account all the packages that are installed. This behaviour is the source of the following dependency conflicts.\nrai-core-flask 0.7.2 requires gevent>=21.12.0, which is not installed.\nspacy 3.4.4 requires typer<0.8.0,>=0.3.0, but you have typer 0.12.3 which is incompatible.\nresponsibleai 0.33.0 requires ipykernel<=6.8.0, but you have ipykernel 6.29.4 which is incompatible.\nresponsibleai 0.33.0 requires markupsafe<=2.1.2, but you have markupsafe 2.1.5 which is incompatible.\nrai-core-flask 0.7.2 requires markupsafe<=2.1.2, but you have markupsafe 2.1.5 which is incompatible.\njupyterlab-topbar 0.6.1 requires jupyterlab~=3.0, but you have jupyterlab 4.1.8 which is incompatible.\njupyterlab-system-monitor 0.8.0 requires jupyterlab~=3.0, but you have jupyterlab 4.1.8 which is incompatible.\ndask-sql 2024.5.0 requires dask[dataframe]>=2024.4.1, but you have dask 2023.2.0 which is incompatible.\ndask-sql 2024.5.0 requires distributed>=2024.4.1, but you have distributed 2023.2.0 which is incompatible.\ndask-sql 2024.5.0 requires pandas>=1.4.0, but you have pandas 1.3.5 which is incompatible.\nazureml-mlflow 1.56.0 requires azure-storage-blob<=12.19.0,>=12.5.0, but you have azure-storage-blob 12.22.0 which is incompatible.\u001b[0m\u001b[31m\n\u001b[0mSuccessfully installed Jinja2-3.1.4 Mako-1.3.5 MarkupSafe-2.1.5 alembic-1.13.2 aniso8601-9.0.1 databricks-sdk-0.32.0 graphene-3.3 graphql-core-3.2.4 graphql-relay-3.2.0 mlflow-2.16.0 mlflow-skinny-2.16.0 opentelemetry-api-1.27.0 opentelemetry-sdk-1.27.0 opentelemetry-semantic-conventions-0.48b0 sqlalchemy-2.0.34\n"
        }
      ],
      "execution_count": 1,
      "metadata": {
        "jupyter": {
          "source_hidden": false,
          "outputs_hidden": false
        },
        "nteract": {
          "transient": {
            "deleting": false
          }
        }
      }
    },
    {
      "cell_type": "code",
      "source": [
        "from azure.identity import DefaultAzureCredential, InteractiveBrowserCredential\n",
        "from azure.ai.ml import MLClient\n",
        "\n",
        "try:\n",
        "    credential = DefaultAzureCredential()\n",
        "    # Check if given credential can get token successfully.\n",
        "    credential.get_token(\"https://management.azure.com/.default\")\n",
        "except Exception as ex:\n",
        "    # Fall back to InteractiveBrowserCredential in case DefaultAzureCredential not work\n",
        "    credential = InteractiveBrowserCredential()\n",
        "\n",
        "# Get a handle to workspace\n",
        "ml_client = MLClient.from_config(credential=credential)\n"
      ],
      "outputs": [
        {
          "output_type": "stream",
          "name": "stderr",
          "text": "Found the config file in: /config.json\n"
        }
      ],
      "execution_count": 3,
      "metadata": {
        "gather": {
          "logged": 1725481592224
        }
      }
    },
    {
      "cell_type": "code",
      "source": [
        "from azure.ai.ml import Input\n",
        "from azure.ai.ml.constants import AssetTypes\n",
        "from azure.ai.ml import command\n",
        "\n",
        "job_inputs = {'train_data': Input(type=AssetTypes.URI_FILE, path=\"azureml:training-data:1\"), \n",
        "'test_data': Input(type=AssetTypes.URI_FILE, path=\"azureml:test-data:1\"), \n",
        "'data_description': Input(type=AssetTypes.URI_FILE, path=\"azureml:data-desc:1\")}\n",
        "\n",
        "# configure job\n",
        "job = command(\n",
        "    code=\"./src\",\n",
        "    command=\"python train_model.py --train_data ${{inputs.train_data}} --test_data ${{inputs.test_data}} --data_description ${{inputs.data_description}}\",\n",
        "    inputs = job_inputs,\n",
        "    environment=\"AzureML-sklearn-1.5@latest\",\n",
        "    compute=\"aml-cluster\",\n",
        "    display_name=\"house-prices-e2e-v2\",\n",
        "    experiment_name=\"house-prices-e2e-v2-training\"\n",
        ")\n",
        "\n",
        "# submit job\n",
        "returned_job = ml_client.create_or_update(job)\n",
        "aml_url = returned_job.studio_url\n",
        "print(\"Monitor your job at\", aml_url)"
      ],
      "outputs": [
        {
          "output_type": "stream",
          "name": "stderr",
          "text": "\r\u001b[32mUploading src (0.02 MBs):   0%|          | 0/23579 [00:00<?, ?it/s]\r\u001b[32mUploading src (0.02 MBs): 100%|██████████| 23579/23579 [00:00<00:00, 152367.06it/s]\r\u001b[32mUploading src (0.02 MBs): 100%|██████████| 23579/23579 [00:00<00:00, 151371.94it/s]\n\u001b[39m\n\n"
        },
        {
          "output_type": "stream",
          "name": "stdout",
          "text": "Monitor your job at https://ml.azure.com/runs/plum_receipt_clkr0t0lq6?wsid=/subscriptions/ad5c3a0e-2e80-43f8-a0e0-2cb6463d9e1e/resourcegroups/rg-house-prices-e2e/workspaces/mlw-house-prices-e2e-d18c90063d&tid=6f2cb654-d755-4b1d-b2c4-b18e5c3e2442\n"
        }
      ],
      "execution_count": 15,
      "metadata": {
        "jupyter": {
          "source_hidden": false,
          "outputs_hidden": false
        },
        "nteract": {
          "transient": {
            "deleting": false
          }
        },
        "gather": {
          "logged": 1725485715270
        }
      }
    },
    {
      "cell_type": "code",
      "source": [
        "import mlflow"
      ],
      "outputs": [],
      "execution_count": 11,
      "metadata": {
        "jupyter": {
          "source_hidden": false,
          "outputs_hidden": false
        },
        "nteract": {
          "transient": {
            "deleting": false
          }
        },
        "gather": {
          "logged": 1725485056242
        }
      }
    },
    {
      "cell_type": "code",
      "source": [
        "experiment_name = \"mlflow-experiment-diabetes\"\n",
        "mlflow.set_experiment(experiment_name)"
      ],
      "outputs": [
        {
          "output_type": "stream",
          "name": "stderr",
          "text": "2024/09/04 21:24:24 INFO mlflow.tracking.fluent: Experiment with name 'mlflow-experiment-diabetes' does not exist. Creating a new experiment.\n"
        },
        {
          "output_type": "execute_result",
          "execution_count": 12,
          "data": {
            "text/plain": "<Experiment: artifact_location='', creation_time=1725485064736, experiment_id='8adbee66-01fc-4902-84fc-6d4d27a8a2ed', last_update_time=None, lifecycle_stage='active', name='mlflow-experiment-diabetes', tags={}>"
          },
          "metadata": {}
        }
      ],
      "execution_count": 12,
      "metadata": {
        "jupyter": {
          "source_hidden": false,
          "outputs_hidden": false
        },
        "nteract": {
          "transient": {
            "deleting": false
          }
        },
        "gather": {
          "logged": 1725485065287
        }
      }
    },
    {
      "cell_type": "code",
      "source": [
        "with mlflow.start_run():\n",
        "    mlflow.log_metric(\"Accuracy\", 0.3)"
      ],
      "outputs": [
        {
          "output_type": "stream",
          "name": "stderr",
          "text": "2024/09/04 21:24:47 INFO mlflow.tracking._tracking_service.client: 🏃 View run shy_evening_tbtngfx6 at: https://westeurope.api.azureml.ms/mlflow/v2.0/subscriptions/ad5c3a0e-2e80-43f8-a0e0-2cb6463d9e1e/resourceGroups/rg-house-prices-e2e/providers/Microsoft.MachineLearningServices/workspaces/mlw-house-prices-e2e-d18c90063d/#/experiments/8adbee66-01fc-4902-84fc-6d4d27a8a2ed/runs/402cb119-ab02-46ef-8480-0d729d3da50e.\n2024/09/04 21:24:47 INFO mlflow.tracking._tracking_service.client: 🧪 View experiment at: https://westeurope.api.azureml.ms/mlflow/v2.0/subscriptions/ad5c3a0e-2e80-43f8-a0e0-2cb6463d9e1e/resourceGroups/rg-house-prices-e2e/providers/Microsoft.MachineLearningServices/workspaces/mlw-house-prices-e2e-d18c90063d/#/experiments/8adbee66-01fc-4902-84fc-6d4d27a8a2ed.\n"
        }
      ],
      "execution_count": 13,
      "metadata": {
        "jupyter": {
          "source_hidden": false,
          "outputs_hidden": false
        },
        "nteract": {
          "transient": {
            "deleting": false
          }
        },
        "gather": {
          "logged": 1725485088577
        }
      }
    },
    {
      "cell_type": "code",
      "source": [],
      "outputs": [],
      "execution_count": null,
      "metadata": {
        "jupyter": {
          "source_hidden": false,
          "outputs_hidden": false
        },
        "nteract": {
          "transient": {
            "deleting": false
          }
        }
      }
    }
  ],
  "metadata": {
    "kernelspec": {
      "name": "python38-azureml",
      "language": "python",
      "display_name": "Python 3.8 - AzureML"
    },
    "language_info": {
      "name": "python",
      "version": "3.9.19",
      "mimetype": "text/x-python",
      "codemirror_mode": {
        "name": "ipython",
        "version": 3
      },
      "pygments_lexer": "ipython3",
      "nbconvert_exporter": "python",
      "file_extension": ".py"
    },
    "microsoft": {
      "ms_spell_check": {
        "ms_spell_check_language": "en"
      },
      "host": {
        "AzureML": {
          "notebookHasBeenCompleted": true
        }
      }
    },
    "kernel_info": {
      "name": "python38-azureml"
    },
    "nteract": {
      "version": "nteract-front-end@1.0.0"
    }
  },
  "nbformat": 4,
  "nbformat_minor": 2
}