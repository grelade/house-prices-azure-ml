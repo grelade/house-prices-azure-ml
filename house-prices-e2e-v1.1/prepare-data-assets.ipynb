{
  "cells": [
    {
      "cell_type": "code",
      "source": [
        "from azure.identity import DefaultAzureCredential, InteractiveBrowserCredential\n",
        "from azure.ai.ml import MLClient\n",
        "\n",
        "try:\n",
        "    credential = DefaultAzureCredential()\n",
        "    # Check if given credential can get token successfully.\n",
        "    credential.get_token(\"https://management.azure.com/.default\")\n",
        "except Exception as ex:\n",
        "    # Fall back to InteractiveBrowserCredential in case DefaultAzureCredential not work\n",
        "    credential = InteractiveBrowserCredential()\n",
        "\n",
        "# Get a handle to workspace\n",
        "ml_client = MLClient.from_config(credential=credential)\n"
      ],
      "outputs": [
        {
          "output_type": "stream",
          "name": "stderr",
          "text": "Found the config file in: /config.json\n"
        }
      ],
      "execution_count": 2,
      "metadata": {
        "jupyter": {
          "source_hidden": false,
          "outputs_hidden": false
        },
        "nteract": {
          "transient": {
            "deleting": false
          }
        },
        "gather": {
          "logged": 1725479719127
        }
      }
    },
    {
      "cell_type": "code",
      "source": [
        "stores = ml_client.datastores.list()\n",
        "for ds_name in stores:\n",
        "    print(ds_name.name)"
      ],
      "outputs": [
        {
          "output_type": "stream",
          "name": "stdout",
          "text": "workspacefilestore\nworkspaceblobstore\nworkspaceworkingdirectory\nworkspaceartifactstore\n"
        }
      ],
      "execution_count": 3,
      "metadata": {
        "jupyter": {
          "source_hidden": false,
          "outputs_hidden": false
        },
        "nteract": {
          "transient": {
            "deleting": false
          }
        },
        "gather": {
          "logged": 1725479726097
        }
      }
    },
    {
      "cell_type": "code",
      "source": [
        "from azure.ai.ml.entities import Data\n",
        "from azure.ai.ml.constants import AssetTypes\n",
        "\n",
        "train_data = Data(\n",
        "    path='data/train.csv',\n",
        "    type=AssetTypes.URI_FILE,\n",
        "    description=\"Training data asset\",\n",
        "    name=\"training-data\"\n",
        ")\n",
        "\n",
        "test_data = Data(\n",
        "    path='data/test.csv',\n",
        "    type=AssetTypes.URI_FILE,\n",
        "    description=\"Test data asset\",\n",
        "    name=\"test-data\"\n",
        ")\n",
        "\n",
        "data_description = Data(\n",
        "    path='data/data_description.txt',\n",
        "    type=AssetTypes.URI_FILE,\n",
        "    description=\"data description file\",\n",
        "    name=\"data-desc\"\n",
        ")\n",
        "\n",
        "data_directory = Data(path = 'data/', \n",
        "type = AssetTypes.URI_FOLDER, \n",
        "description=\"data directory\",\n",
        "name='data-dir')\n",
        "\n",
        "ml_client.data.create_or_update(train_data)\n",
        "ml_client.data.create_or_update(test_data)\n",
        "ml_client.data.create_or_update(data_description)\n",
        "ml_client.data.create_or_update(data_directory)"
      ],
      "outputs": [
        {
          "output_type": "stream",
          "name": "stderr",
          "text": "\r\u001b[32mUploading data (0.93 MBs):   0%|          | 0/926841 [00:00<?, ?it/s]\r\u001b[32mUploading data (0.93 MBs): 100%|██████████| 926841/926841 [00:00<00:00, 14455850.70it/s]\n\u001b[39m\n\n"
        },
        {
          "output_type": "execute_result",
          "execution_count": 5,
          "data": {
            "text/plain": "Data({'path': 'azureml://subscriptions/ad5c3a0e-2e80-43f8-a0e0-2cb6463d9e1e/resourcegroups/rg-house-prices-e2e/workspaces/mlw-house-prices-e2e-d18c90063d/datastores/workspaceblobstore/paths/LocalUpload/354d05cda122399f3a749ed479c47948/data/', 'skip_validation': False, 'mltable_schema_url': None, 'referenced_uris': None, 'type': 'uri_folder', 'is_anonymous': False, 'auto_increment_version': False, 'auto_delete_setting': None, 'name': 'data-dir', 'description': 'data directory', 'tags': {}, 'properties': {}, 'print_as_yaml': False, 'id': '/subscriptions/ad5c3a0e-2e80-43f8-a0e0-2cb6463d9e1e/resourceGroups/rg-house-prices-e2e/providers/Microsoft.MachineLearningServices/workspaces/mlw-house-prices-e2e-d18c90063d/data/data-dir/versions/1', 'Resource__source_path': '', 'base_path': '/mnt/batch/tasks/shared/LS_root/mounts/clusters/ci-d18c90063d/code/Users/jacekgrela/house-prices-azure-ml/house-prices-e2e-v2', 'creation_context': <azure.ai.ml.entities._system_data.SystemData object at 0x7f5c928b2f70>, 'serialize': <msrest.serialization.Serializer object at 0x7f5c928b2670>, 'version': '1', 'latest_version': None, 'datastore': None})"
          },
          "metadata": {}
        }
      ],
      "execution_count": 5,
      "metadata": {
        "gather": {
          "logged": 1725479879136
        }
      }
    },
    {
      "cell_type": "code",
      "source": [
        "data = ml_client.data.list()\n",
        "for datum in data:\n",
        "    print(datum.name)"
      ],
      "outputs": [
        {
          "output_type": "stream",
          "name": "stdout",
          "text": "training-data\ntest-data\ndata-desc\ndata-dir\n"
        }
      ],
      "execution_count": 7,
      "metadata": {
        "jupyter": {
          "source_hidden": false,
          "outputs_hidden": false
        },
        "nteract": {
          "transient": {
            "deleting": false
          }
        },
        "gather": {
          "logged": 1725479909110
        }
      }
    },
    {
      "cell_type": "code",
      "source": [],
      "outputs": [],
      "execution_count": null,
      "metadata": {
        "jupyter": {
          "source_hidden": false,
          "outputs_hidden": false
        },
        "nteract": {
          "transient": {
            "deleting": false
          }
        }
      }
    }
  ],
  "metadata": {
    "kernelspec": {
      "name": "python38-azureml",
      "language": "python",
      "display_name": "Python 3.8 - AzureML"
    },
    "language_info": {
      "name": "python",
      "version": "3.9.19",
      "mimetype": "text/x-python",
      "codemirror_mode": {
        "name": "ipython",
        "version": 3
      },
      "pygments_lexer": "ipython3",
      "nbconvert_exporter": "python",
      "file_extension": ".py"
    },
    "microsoft": {
      "ms_spell_check": {
        "ms_spell_check_language": "en"
      },
      "host": {
        "AzureML": {
          "notebookHasBeenCompleted": true
        }
      }
    },
    "kernel_info": {
      "name": "python38-azureml"
    },
    "nteract": {
      "version": "nteract-front-end@1.0.0"
    }
  },
  "nbformat": 4,
  "nbformat_minor": 2
}