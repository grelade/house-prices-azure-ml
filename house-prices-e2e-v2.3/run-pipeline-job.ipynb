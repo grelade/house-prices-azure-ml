{
 "cells": [
  {
   "cell_type": "code",
   "execution_count": 11,
   "metadata": {},
   "outputs": [],
   "source": [
    "from pathlib import Path\n",
    "\n",
    "from azure.identity import DefaultAzureCredential\n",
    "from azure.ai.ml import MLClient\n",
    "from azure.ai.ml import load_component\n",
    "from azure.ai.ml import Input\n",
    "from azure.ai.ml.constants import AssetTypes\n",
    "from azure.ai.ml.dsl import pipeline\n"
   ]
  },
  {
   "cell_type": "code",
   "execution_count": 2,
   "metadata": {},
   "outputs": [
    {
     "name": "stderr",
     "output_type": "stream",
     "text": [
      "Found the config file in: /config.json\n"
     ]
    }
   ],
   "source": [
    "credential = DefaultAzureCredential()\n",
    "credential.get_token(\"https://management.azure.com/.default\")\n",
    "\n",
    "ml_client = MLClient.from_config(credential=credential)\n"
   ]
  },
  {
   "cell_type": "code",
   "execution_count": 77,
   "metadata": {},
   "outputs": [],
   "source": [
    "!source prep-srcs.sh\n"
   ]
  },
  {
   "cell_type": "code",
   "execution_count": 78,
   "metadata": {},
   "outputs": [],
   "source": [
    "component_yaml_dir = Path(\"src\")\n",
    "\n",
    "data_prep = load_component(source = component_yaml_dir / \"data_prep.yml\")\n",
    "train_kernelridge = load_component(source = component_yaml_dir / \"train_kernelridge.yml\")\n"
   ]
  },
  {
   "cell_type": "code",
   "execution_count": 79,
   "metadata": {},
   "outputs": [],
   "source": [
    "@pipeline()\n",
    "def house_prices_pipeline(train_data, test_data, data_description, kernel):\n",
    "    data_prep_result = data_prep(train_data = train_data,\n",
    "                           test_data = test_data,\n",
    "                           data_description = data_description)\n",
    "\n",
    "    train_kernelridge_result = train_kernelridge(prep_data_dir = data_prep_result.outputs.output_data_dir, kernel = kernel)\n",
    "\n",
    "    return {\n",
    "        \"pipeline_job_data_prep_output_dir\": data_prep_result.outputs.output_data_dir,\n",
    "        \"pipeline_job_sample_submission\": train_kernelridge_result.outputs.output_dir,\n",
    "    }\n"
   ]
  },
  {
   "cell_type": "code",
   "execution_count": 80,
   "metadata": {},
   "outputs": [],
   "source": [
    "# pipeline_job = house_prices_pipeline()\n",
    "\n",
    "train_data = Input(type=AssetTypes.URI_FILE, path=\"azureml:training-data:1\")\n",
    "test_data = Input(type=AssetTypes.URI_FILE, path=\"azureml:test-data:1\")\n",
    "data_description = Input(type=AssetTypes.URI_FILE, path=\"azureml:data-desc:1\")\n",
    "kernel = 'linear'\n",
    "\n",
    "pipeline_job = house_prices_pipeline(train_data = train_data,\n",
    "                                     test_data = test_data,\n",
    "                                     data_description = data_description,\n",
    "                                     kernel = kernel)\n"
   ]
  },
  {
   "cell_type": "code",
   "execution_count": 81,
   "metadata": {},
   "outputs": [],
   "source": [
    "pipeline_job.outputs.pipeline_job_sample_submission.mode = 'upload'\n"
   ]
  },
  {
   "cell_type": "code",
   "execution_count": 82,
   "metadata": {},
   "outputs": [],
   "source": [
    "pipeline_job.settings.default_compute = \"aml-cluster\"\n",
    "pipeline_job.settings.default_datastore = \"workspaceblobstore\"\n"
   ]
  },
  {
   "cell_type": "code",
   "execution_count": null,
   "metadata": {},
   "outputs": [],
   "source": [
    "\n"
   ]
  },
  {
   "cell_type": "code",
   "execution_count": 83,
   "metadata": {},
   "outputs": [
    {
     "name": "stderr",
     "output_type": "stream",
     "text": [
      "Uploading train_kernelridge_src (0.03 MBs): 100%|██████████| 25195/25195 [00:00<00:00, 696085.27it/s]\n",
      "\n",
      "\n",
      "pathOnCompute is not a known attribute of class <class 'azure.ai.ml._restclient.v2023_04_01_preview.models._models_py3.UriFolderJobOutput'> and will be ignored\n",
      "pathOnCompute is not a known attribute of class <class 'azure.ai.ml._restclient.v2023_04_01_preview.models._models_py3.UriFolderJobOutput'> and will be ignored\n"
     ]
    },
    {
     "data": {
      "text/html": [
       "<table style=\"width:100%\"><tr><th>Experiment</th><th>Name</th><th>Type</th><th>Status</th><th>Details Page</th></tr><tr><td>pipeline_house_prices</td><td>cool_parcel_p65xnr1j3t</td><td>pipeline</td><td>NotStarted</td><td><a href=\"https://ml.azure.com/runs/cool_parcel_p65xnr1j3t?wsid=/subscriptions/ad5c3a0e-2e80-43f8-a0e0-2cb6463d9e1e/resourcegroups/rg-house-prices-e2e/workspaces/mlw-house-prices-e2e-zaq12wsx&amp;tid=6f2cb654-d755-4b1d-b2c4-b18e5c3e2442\" target=\"_blank\" rel=\"noopener\">Link to Azure Machine Learning studio</a></td></tr></table>"
      ],
      "text/plain": [
       "PipelineJob({'inputs': {'train_data': <azure.ai.ml.entities._job.pipeline._io.base.PipelineInput object at 0x7f1d76679250>, 'test_data': <azure.ai.ml.entities._job.pipeline._io.base.PipelineInput object at 0x7f1d766791c0>, 'data_description': <azure.ai.ml.entities._job.pipeline._io.base.PipelineInput object at 0x7f1d76679d30>, 'kernel': <azure.ai.ml.entities._job.pipeline._io.base.PipelineInput object at 0x7f1d76679e50>}, 'outputs': {'pipeline_job_data_prep_output_dir': <azure.ai.ml.entities._job.pipeline._io.base.PipelineOutput object at 0x7f1d76679c40>, 'pipeline_job_sample_submission': <azure.ai.ml.entities._job.pipeline._io.base.PipelineOutput object at 0x7f1d76679640>}, 'jobs': {}, 'component': PipelineComponent({'latest_version': None, 'intellectual_property': None, 'auto_increment_version': False, 'source': 'REMOTE.WORKSPACE.JOB', 'is_anonymous': True, 'auto_delete_setting': None, 'name': 'azureml_anonymous', 'description': None, 'tags': {}, 'properties': {}, 'print_as_yaml': False, 'id': None, 'Resource__source_path': None, 'base_path': '/mnt/batch/tasks/shared/LS_root/mounts/clusters/ci-zaq12wsx/code/Users/jacekgrela/house-prices-azure-ml/house-prices-e2e-v2.3', 'creation_context': None, 'serialize': <msrest.serialization.Serializer object at 0x7f1d76679100>, 'version': '1', 'schema': None, 'type': 'pipeline', 'display_name': 'house_prices_pipeline', 'is_deterministic': None, 'inputs': {'train_data': {}, 'test_data': {}, 'data_description': {}, 'kernel': {}}, 'outputs': {'pipeline_job_data_prep_output_dir': {}, 'pipeline_job_sample_submission': {}}, 'yaml_str': None, 'other_parameter': {}, 'jobs': {'data_prep_result': Command({'parameters': {}, 'init': False, 'name': 'data_prep_result', 'type': 'command', 'status': None, 'log_files': None, 'description': None, 'tags': {}, 'properties': {}, 'print_as_yaml': False, 'id': None, 'Resource__source_path': '', 'base_path': '/mnt/batch/tasks/shared/LS_root/mounts/clusters/ci-zaq12wsx/code/Users/jacekgrela/house-prices-azure-ml/house-prices-e2e-v2.3', 'creation_context': None, 'serialize': <msrest.serialization.Serializer object at 0x7f1d76679160>, 'allowed_keys': {}, 'key_restriction': False, 'logger': <TraceLogger attr_dict (WARNING)>, 'display_name': None, 'experiment_name': None, 'compute': None, 'services': None, 'comment': None, 'job_inputs': {'train_data': '${{parent.inputs.train_data}}', 'test_data': '${{parent.inputs.test_data}}', 'data_description': '${{parent.inputs.data_description}}'}, 'job_outputs': {'output_data_dir': '${{parent.outputs.pipeline_job_data_prep_output_dir}}'}, 'inputs': {'train_data': <azure.ai.ml.entities._job.pipeline._io.base.NodeInput object at 0x7f1d76679af0>, 'test_data': <azure.ai.ml.entities._job.pipeline._io.base.NodeInput object at 0x7f1d76679310>, 'data_description': <azure.ai.ml.entities._job.pipeline._io.base.NodeInput object at 0x7f1d76679760>}, 'outputs': {'output_data_dir': <azure.ai.ml.entities._job.pipeline._io.base.NodeOutput object at 0x7f1d76679940>}, 'component': 'azureml_anonymous:48b2d232-95a8-4e5b-b66e-f57f3e55c504', 'referenced_control_flow_node_instance_id': None, 'kwargs': {'services': None}, 'instance_id': '20efdf35-3bed-4342-b7e6-1bf3834fe812', 'source': 'YAML.COMPONENT', 'validate_required_input_not_provided': True, 'limits': None, 'identity': None, 'distribution': None, 'environment_variables': {}, 'environment': None, 'resources': None, 'queue_settings': None, 'swept': False}), 'train_kernelridge_result': Command({'parameters': {}, 'init': False, 'name': 'train_kernelridge_result', 'type': 'command', 'status': None, 'log_files': None, 'description': None, 'tags': {}, 'properties': {}, 'print_as_yaml': False, 'id': None, 'Resource__source_path': '', 'base_path': '/mnt/batch/tasks/shared/LS_root/mounts/clusters/ci-zaq12wsx/code/Users/jacekgrela/house-prices-azure-ml/house-prices-e2e-v2.3', 'creation_context': None, 'serialize': <msrest.serialization.Serializer object at 0x7f1d76679280>, 'allowed_keys': {}, 'key_restriction': False, 'logger': <TraceLogger attr_dict (WARNING)>, 'display_name': None, 'experiment_name': None, 'compute': None, 'services': None, 'comment': None, 'job_inputs': {'prep_data_dir': '${{parent.jobs.data_prep_result.outputs.output_data_dir}}', 'kernel': '${{parent.inputs.kernel}}'}, 'job_outputs': {'output_dir': '${{parent.outputs.pipeline_job_sample_submission}}'}, 'inputs': {'prep_data_dir': <azure.ai.ml.entities._job.pipeline._io.base.NodeInput object at 0x7f1d766794f0>, 'kernel': <azure.ai.ml.entities._job.pipeline._io.base.NodeInput object at 0x7f1d76679700>}, 'outputs': {'output_dir': <azure.ai.ml.entities._job.pipeline._io.base.NodeOutput object at 0x7f1d76679970>}, 'component': 'azureml_anonymous:5ca4d0d7-bb1a-4c7b-becf-5ce5c5afb601', 'referenced_control_flow_node_instance_id': None, 'kwargs': {'services': None}, 'instance_id': 'ce299e8e-462b-4865-9b27-02ee47e936b3', 'source': 'YAML.COMPONENT', 'validate_required_input_not_provided': True, 'limits': None, 'identity': None, 'distribution': None, 'environment_variables': {}, 'environment': None, 'resources': None, 'queue_settings': None, 'swept': False})}, 'job_types': {'command': 2}, 'job_sources': {'YAML.COMPONENT': 2}, 'source_job_id': None}), 'type': 'pipeline', 'status': 'NotStarted', 'log_files': None, 'name': 'cool_parcel_p65xnr1j3t', 'description': None, 'tags': {}, 'properties': {}, 'print_as_yaml': False, 'id': '/subscriptions/ad5c3a0e-2e80-43f8-a0e0-2cb6463d9e1e/resourceGroups/rg-house-prices-e2e/providers/Microsoft.MachineLearningServices/workspaces/mlw-house-prices-e2e-zaq12wsx/jobs/cool_parcel_p65xnr1j3t', 'Resource__source_path': '', 'base_path': '/mnt/batch/tasks/shared/LS_root/mounts/clusters/ci-zaq12wsx/code/Users/jacekgrela/house-prices-azure-ml/house-prices-e2e-v2.3', 'creation_context': <azure.ai.ml.entities._system_data.SystemData object at 0x7f1d766791f0>, 'serialize': <msrest.serialization.Serializer object at 0x7f1d8c564cd0>, 'display_name': 'house_prices_pipeline', 'experiment_name': 'pipeline_house_prices', 'compute': None, 'services': {'Tracking': {'endpoint': 'azureml://polandcentral.api.azureml.ms/mlflow/v1.0/subscriptions/ad5c3a0e-2e80-43f8-a0e0-2cb6463d9e1e/resourceGroups/rg-house-prices-e2e/providers/Microsoft.MachineLearningServices/workspaces/mlw-house-prices-e2e-zaq12wsx?', 'type': 'Tracking'}, 'Studio': {'endpoint': 'https://ml.azure.com/runs/cool_parcel_p65xnr1j3t?wsid=/subscriptions/ad5c3a0e-2e80-43f8-a0e0-2cb6463d9e1e/resourcegroups/rg-house-prices-e2e/workspaces/mlw-house-prices-e2e-zaq12wsx&tid=6f2cb654-d755-4b1d-b2c4-b18e5c3e2442', 'type': 'Studio'}}, 'settings': {}, 'identity': None, 'default_code': None, 'default_environment': None})"
      ]
     },
     "execution_count": 83,
     "metadata": {},
     "output_type": "execute_result"
    }
   ],
   "source": [
    "# submit job to workspace\n",
    "pipeline_job = ml_client.jobs.create_or_update(\n",
    "    pipeline_job, experiment_name=\"pipeline_house_prices\"\n",
    ")\n",
    "pipeline_job\n"
   ]
  },
  {
   "cell_type": "code",
   "execution_count": null,
   "metadata": {},
   "outputs": [],
   "source": []
  }
 ],
 "metadata": {
  "kernelspec": {
   "display_name": "Python 3.8 - AzureML",
   "language": "python",
   "name": "python38-azureml"
  },
  "language_info": {
   "codemirror_mode": {
    "name": "ipython",
    "version": 3
   },
   "file_extension": ".py",
   "mimetype": "text/x-python",
   "name": "python",
   "nbconvert_exporter": "python",
   "pygments_lexer": "ipython3",
   "version": "3.9.19"
  }
 },
 "nbformat": 4,
 "nbformat_minor": 2
}
