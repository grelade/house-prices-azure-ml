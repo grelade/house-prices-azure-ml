{
  "cells": [
    {
      "cell_type": "code",
      "source": [
        "!pip install azure-ai-ml"
      ],
      "outputs": [
        {
          "output_type": "stream",
          "name": "stdout",
          "text": "Collecting azure-ai-ml\n  Downloading azure_ai_ml-1.19.0-py3-none-any.whl (11.2 MB)\n\u001b[2K     \u001b[90m━━━━━━━━━━━━━━━━━━━━━━━━━━━━━━━━━━━━━━━━\u001b[0m \u001b[32m11.2/11.2 MB\u001b[0m \u001b[31m71.6 MB/s\u001b[0m eta \u001b[36m0:00:00\u001b[0m00:01\u001b[0m00:01\u001b[0m\n\u001b[?25hCollecting azure-storage-file-share\n  Downloading azure_storage_file_share-12.17.0-py3-none-any.whl (270 kB)\n\u001b[2K     \u001b[90m━━━━━━━━━━━━━━━━━━━━━━━━━━━━━━━━━━━━━━\u001b[0m \u001b[32m270.7/270.7 kB\u001b[0m \u001b[31m21.7 MB/s\u001b[0m eta \u001b[36m0:00:00\u001b[0m\n\u001b[?25hRequirement already satisfied: azure-core>=1.23.0 in /anaconda/envs/azureml_py38/lib/python3.9/site-packages (from azure-ai-ml) (1.30.1)\nRequirement already satisfied: azure-common>=1.1 in /anaconda/envs/azureml_py38/lib/python3.9/site-packages (from azure-ai-ml) (1.1.28)\nRequirement already satisfied: jsonschema>=4.0.0 in /anaconda/envs/azureml_py38/lib/python3.9/site-packages (from azure-ai-ml) (4.21.1)\nCollecting pydash>=6.0.0\n  Downloading pydash-8.0.3-py3-none-any.whl (101 kB)\n\u001b[2K     \u001b[90m━━━━━━━━━━━━━━━━━━━━━━━━━━━━━━━━━━━━━━━\u001b[0m \u001b[32m101.9/101.9 kB\u001b[0m \u001b[31m9.9 MB/s\u001b[0m eta \u001b[36m0:00:00\u001b[0m\n\u001b[?25hRequirement already satisfied: pyjwt in /anaconda/envs/azureml_py38/lib/python3.9/site-packages (from azure-ai-ml) (2.4.0)\nCollecting azure-storage-file-datalake>=12.2.0\n  Downloading azure_storage_file_datalake-12.16.0-py3-none-any.whl (255 kB)\n\u001b[2K     \u001b[90m━━━━━━━━━━━━━━━━━━━━━━━━━━━━━━━━━━━━━━\u001b[0m \u001b[32m255.6/255.6 kB\u001b[0m \u001b[31m19.3 MB/s\u001b[0m eta \u001b[36m0:00:00\u001b[0m\n\u001b[?25hCollecting opencensus-ext-logging\n  Downloading opencensus_ext_logging-0.1.1-py2.py3-none-any.whl (4.0 kB)\nCollecting marshmallow>=3.5\n  Downloading marshmallow-3.22.0-py3-none-any.whl (49 kB)\n\u001b[2K     \u001b[90m━━━━━━━━━━━━━━━━━━━━━━━━━━━━━━━━━━━━━━━━\u001b[0m \u001b[32m49.3/49.3 kB\u001b[0m \u001b[31m3.4 MB/s\u001b[0m eta \u001b[36m0:00:00\u001b[0m\n\u001b[?25hRequirement already satisfied: azure-mgmt-core>=1.3.0 in /anaconda/envs/azureml_py38/lib/python3.9/site-packages (from azure-ai-ml) (1.4.0)\nRequirement already satisfied: typing-extensions in /anaconda/envs/azureml_py38/lib/python3.9/site-packages (from azure-ai-ml) (4.12.2)\nRequirement already satisfied: colorama in /anaconda/envs/azureml_py38/lib/python3.9/site-packages (from azure-ai-ml) (0.4.6)\nRequirement already satisfied: pyyaml>=5.1.0 in /anaconda/envs/azureml_py38/lib/python3.9/site-packages (from azure-ai-ml) (6.0.1)\nRequirement already satisfied: azure-storage-blob>=12.10.0 in /anaconda/envs/azureml_py38/lib/python3.9/site-packages (from azure-ai-ml) (12.13.0)\nRequirement already satisfied: tqdm in /anaconda/envs/azureml_py38/lib/python3.9/site-packages (from azure-ai-ml) (4.66.2)\nRequirement already satisfied: isodate in /anaconda/envs/azureml_py38/lib/python3.9/site-packages (from azure-ai-ml) (0.6.1)\nRequirement already satisfied: opencensus-ext-azure in /anaconda/envs/azureml_py38/lib/python3.9/site-packages (from azure-ai-ml) (1.1.13)\nRequirement already satisfied: msrest>=0.6.18 in /anaconda/envs/azureml_py38/lib/python3.9/site-packages (from azure-ai-ml) (0.7.1)\nCollecting strictyaml\n  Downloading strictyaml-1.7.3-py3-none-any.whl (123 kB)\n\u001b[2K     \u001b[90m━━━━━━━━━━━━━━━━━━━━━━━━━━━━━━━━━━━━━━\u001b[0m \u001b[32m123.9/123.9 kB\u001b[0m \u001b[31m11.3 MB/s\u001b[0m eta \u001b[36m0:00:00\u001b[0m\n\u001b[?25hRequirement already satisfied: six>=1.11.0 in /anaconda/envs/azureml_py38/lib/python3.9/site-packages (from azure-core>=1.23.0->azure-ai-ml) (1.16.0)\nRequirement already satisfied: requests>=2.21.0 in /anaconda/envs/azureml_py38/lib/python3.9/site-packages (from azure-core>=1.23.0->azure-ai-ml) (2.31.0)\nRequirement already satisfied: cryptography>=2.1.4 in /anaconda/envs/azureml_py38/lib/python3.9/site-packages (from azure-storage-blob>=12.10.0->azure-ai-ml) (38.0.4)\nCollecting azure-storage-blob>=12.10.0\n  Downloading azure_storage_blob-12.22.0-py3-none-any.whl (404 kB)\n\u001b[2K     \u001b[90m━━━━━━━━━━━━━━━━━━━━━━━━━━━━━━━━━━━━━━\u001b[0m \u001b[32m404.9/404.9 kB\u001b[0m \u001b[31m23.4 MB/s\u001b[0m eta \u001b[36m0:00:00\u001b[0m\n\u001b[?25hRequirement already satisfied: rpds-py>=0.7.1 in /anaconda/envs/azureml_py38/lib/python3.9/site-packages (from jsonschema>=4.0.0->azure-ai-ml) (0.18.0)\nRequirement already satisfied: jsonschema-specifications>=2023.03.6 in /anaconda/envs/azureml_py38/lib/python3.9/site-packages (from jsonschema>=4.0.0->azure-ai-ml) (2023.12.1)\nRequirement already satisfied: referencing>=0.28.4 in /anaconda/envs/azureml_py38/lib/python3.9/site-packages (from jsonschema>=4.0.0->azure-ai-ml) (0.35.0)\nRequirement already satisfied: attrs>=22.2.0 in /anaconda/envs/azureml_py38/lib/python3.9/site-packages (from jsonschema>=4.0.0->azure-ai-ml) (23.2.0)\nRequirement already satisfied: packaging>=17.0 in /anaconda/envs/azureml_py38/lib/python3.9/site-packages (from marshmallow>=3.5->azure-ai-ml) (24.0)\nRequirement already satisfied: requests-oauthlib>=0.5.0 in /anaconda/envs/azureml_py38/lib/python3.9/site-packages (from msrest>=0.6.18->azure-ai-ml) (2.0.0)\nRequirement already satisfied: certifi>=2017.4.17 in /anaconda/envs/azureml_py38/lib/python3.9/site-packages (from msrest>=0.6.18->azure-ai-ml) (2022.9.24)\nRequirement already satisfied: opencensus<1.0.0,>=0.11.4 in /anaconda/envs/azureml_py38/lib/python3.9/site-packages (from opencensus-ext-azure->azure-ai-ml) (0.11.4)\nRequirement already satisfied: azure-identity<2.0.0,>=1.5.0 in /anaconda/envs/azureml_py38/lib/python3.9/site-packages (from opencensus-ext-azure->azure-ai-ml) (1.16.0)\nRequirement already satisfied: psutil>=5.6.3 in /anaconda/envs/azureml_py38/lib/python3.9/site-packages (from opencensus-ext-azure->azure-ai-ml) (5.9.3)\nRequirement already satisfied: python-dateutil>=2.6.0 in /anaconda/envs/azureml_py38/lib/python3.9/site-packages (from strictyaml->azure-ai-ml) (2.9.0.post0)\nRequirement already satisfied: msal>=1.24.0 in /anaconda/envs/azureml_py38/lib/python3.9/site-packages (from azure-identity<2.0.0,>=1.5.0->opencensus-ext-azure->azure-ai-ml) (1.27.0)\nRequirement already satisfied: msal-extensions>=0.3.0 in /anaconda/envs/azureml_py38/lib/python3.9/site-packages (from azure-identity<2.0.0,>=1.5.0->opencensus-ext-azure->azure-ai-ml) (1.0.0)\nRequirement already satisfied: cffi>=1.12 in /anaconda/envs/azureml_py38/lib/python3.9/site-packages (from cryptography>=2.1.4->azure-storage-blob>=12.10.0->azure-ai-ml) (1.16.0)\nRequirement already satisfied: opencensus-context>=0.1.3 in /anaconda/envs/azureml_py38/lib/python3.9/site-packages (from opencensus<1.0.0,>=0.11.4->opencensus-ext-azure->azure-ai-ml) (0.1.3)\nRequirement already satisfied: google-api-core<3.0.0,>=1.0.0 in /anaconda/envs/azureml_py38/lib/python3.9/site-packages (from opencensus<1.0.0,>=0.11.4->opencensus-ext-azure->azure-ai-ml) (2.18.0)\nRequirement already satisfied: idna<4,>=2.5 in /anaconda/envs/azureml_py38/lib/python3.9/site-packages (from requests>=2.21.0->azure-core>=1.23.0->azure-ai-ml) (3.7)\nRequirement already satisfied: charset-normalizer<4,>=2 in /anaconda/envs/azureml_py38/lib/python3.9/site-packages (from requests>=2.21.0->azure-core>=1.23.0->azure-ai-ml) (3.3.2)\nRequirement already satisfied: urllib3<3,>=1.21.1 in /anaconda/envs/azureml_py38/lib/python3.9/site-packages (from requests>=2.21.0->azure-core>=1.23.0->azure-ai-ml) (1.26.18)\nRequirement already satisfied: oauthlib>=3.0.0 in /anaconda/envs/azureml_py38/lib/python3.9/site-packages (from requests-oauthlib>=0.5.0->msrest>=0.6.18->azure-ai-ml) (3.2.2)\nRequirement already satisfied: pycparser in /anaconda/envs/azureml_py38/lib/python3.9/site-packages (from cffi>=1.12->cryptography>=2.1.4->azure-storage-blob>=12.10.0->azure-ai-ml) (2.22)\nRequirement already satisfied: googleapis-common-protos<2.0.dev0,>=1.56.2 in /anaconda/envs/azureml_py38/lib/python3.9/site-packages (from google-api-core<3.0.0,>=1.0.0->opencensus<1.0.0,>=0.11.4->opencensus-ext-azure->azure-ai-ml) (1.63.0)\nRequirement already satisfied: protobuf!=3.20.0,!=3.20.1,!=4.21.0,!=4.21.1,!=4.21.2,!=4.21.3,!=4.21.4,!=4.21.5,<5.0.0.dev0,>=3.19.5 in /anaconda/envs/azureml_py38/lib/python3.9/site-packages (from google-api-core<3.0.0,>=1.0.0->opencensus<1.0.0,>=0.11.4->opencensus-ext-azure->azure-ai-ml) (3.20.3)\nRequirement already satisfied: google-auth<3.0.dev0,>=2.14.1 in /anaconda/envs/azureml_py38/lib/python3.9/site-packages (from google-api-core<3.0.0,>=1.0.0->opencensus<1.0.0,>=0.11.4->opencensus-ext-azure->azure-ai-ml) (2.29.0)\nRequirement already satisfied: proto-plus<2.0.0dev,>=1.22.3 in /anaconda/envs/azureml_py38/lib/python3.9/site-packages (from google-api-core<3.0.0,>=1.0.0->opencensus<1.0.0,>=0.11.4->opencensus-ext-azure->azure-ai-ml) (1.23.0)\nRequirement already satisfied: portalocker<3,>=1.0 in /anaconda/envs/azureml_py38/lib/python3.9/site-packages (from msal-extensions>=0.3.0->azure-identity<2.0.0,>=1.5.0->opencensus-ext-azure->azure-ai-ml) (2.8.2)\nRequirement already satisfied: pyasn1-modules>=0.2.1 in /anaconda/envs/azureml_py38/lib/python3.9/site-packages (from google-auth<3.0.dev0,>=2.14.1->google-api-core<3.0.0,>=1.0.0->opencensus<1.0.0,>=0.11.4->opencensus-ext-azure->azure-ai-ml) (0.4.0)\nRequirement already satisfied: cachetools<6.0,>=2.0.0 in /anaconda/envs/azureml_py38/lib/python3.9/site-packages (from google-auth<3.0.dev0,>=2.14.1->google-api-core<3.0.0,>=1.0.0->opencensus<1.0.0,>=0.11.4->opencensus-ext-azure->azure-ai-ml) (5.3.3)\nRequirement already satisfied: rsa<5,>=3.1.4 in /anaconda/envs/azureml_py38/lib/python3.9/site-packages (from google-auth<3.0.dev0,>=2.14.1->google-api-core<3.0.0,>=1.0.0->opencensus<1.0.0,>=0.11.4->opencensus-ext-azure->azure-ai-ml) (4.9)\nRequirement already satisfied: pyasn1<0.7.0,>=0.4.6 in /anaconda/envs/azureml_py38/lib/python3.9/site-packages (from pyasn1-modules>=0.2.1->google-auth<3.0.dev0,>=2.14.1->google-api-core<3.0.0,>=1.0.0->opencensus<1.0.0,>=0.11.4->opencensus-ext-azure->azure-ai-ml) (0.6.0)\nInstalling collected packages: pydash, marshmallow, strictyaml, azure-storage-file-share, azure-storage-blob, azure-storage-file-datalake, opencensus-ext-logging, azure-ai-ml\n  Attempting uninstall: azure-storage-blob\n    Found existing installation: azure-storage-blob 12.13.0\n    Uninstalling azure-storage-blob-12.13.0:\n      Successfully uninstalled azure-storage-blob-12.13.0\n\u001b[31mERROR: pip's dependency resolver does not currently take into account all the packages that are installed. This behaviour is the source of the following dependency conflicts.\nazureml-mlflow 1.56.0 requires azure-storage-blob<=12.19.0,>=12.5.0, but you have azure-storage-blob 12.22.0 which is incompatible.\nadlfs 2024.4.1 requires fsspec>=2023.12.0, but you have fsspec 2023.10.0 which is incompatible.\u001b[0m\u001b[31m\n\u001b[0mSuccessfully installed azure-ai-ml-1.19.0 azure-storage-blob-12.22.0 azure-storage-file-datalake-12.16.0 azure-storage-file-share-12.17.0 marshmallow-3.22.0 opencensus-ext-logging-0.1.1 pydash-8.0.3 strictyaml-1.7.3\n"
        }
      ],
      "execution_count": 2,
      "metadata": {
        "jupyter": {
          "source_hidden": false,
          "outputs_hidden": false
        },
        "nteract": {
          "transient": {
            "deleting": false
          }
        }
      }
    },
    {
      "cell_type": "code",
      "source": [
        "from azure.identity import DefaultAzureCredential, InteractiveBrowserCredential\n",
        "from azure.ai.ml import MLClient"
      ],
      "outputs": [],
      "execution_count": 1,
      "metadata": {
        "jupyter": {
          "source_hidden": false,
          "outputs_hidden": false
        },
        "nteract": {
          "transient": {
            "deleting": false
          }
        },
        "gather": {
          "logged": 1725722417686
        }
      }
    },
    {
      "cell_type": "code",
      "source": [
        "try:\n",
        "    credential = DefaultAzureCredential()\n",
        "    # Check if given credential can get token successfully.\n",
        "    credential.get_token(\"https://management.azure.com/.default\")\n",
        "except Exception as ex:\n",
        "    # Fall back to InteractiveBrowserCredential in case DefaultAzureCredential not work\n",
        "    credential = InteractiveBrowserCredential()\n",
        "\n",
        "# Get a handle to workspace\n",
        "ml_client = MLClient.from_config(credential=credential)\n"
      ],
      "outputs": [
        {
          "output_type": "stream",
          "name": "stderr",
          "text": "Found the config file in: /config.json\n"
        }
      ],
      "execution_count": 20,
      "metadata": {
        "jupyter": {
          "source_hidden": false,
          "outputs_hidden": false
        },
        "nteract": {
          "transient": {
            "deleting": false
          }
        },
        "gather": {
          "logged": 1725711792611
        }
      }
    },
    {
      "cell_type": "code",
      "source": [
        "from azure.ai.ml.entities import Data\n",
        "from azure.ai.ml.constants import AssetTypes\n",
        "\n",
        "train_data = Data(\n",
        "    path=f'./data/train.csv',\n",
        "    type=AssetTypes.URI_FILE,\n",
        "    description=\"Training data asset\",\n",
        "    name=\"training-data\"\n",
        ")\n",
        "\n",
        "test_data = Data(\n",
        "    path=f'./data/test.csv',\n",
        "    type=AssetTypes.URI_FILE,\n",
        "    description=\"Test data asset\",\n",
        "    name=\"test-data\"\n",
        ")\n",
        "\n",
        "data_description = Data(\n",
        "    path=f'./data/data_description.txt',\n",
        "    type=AssetTypes.URI_FILE,\n",
        "    description=\"data description file\",\n",
        "    name=\"data-desc\"\n",
        ")\n",
        "\n",
        "data_directory = Data(path = f'./data/', \n",
        "type = AssetTypes.URI_FOLDER, \n",
        "description=\"data directory\",\n",
        "name='data-dir')\n",
        "\n",
        "ml_client.data.create_or_update(train_data)\n",
        "ml_client.data.create_or_update(test_data)\n",
        "ml_client.data.create_or_update(data_description)\n",
        "ml_client.data.create_or_update(data_directory)"
      ],
      "outputs": [
        {
          "output_type": "stream",
          "name": "stderr",
          "text": "Uploading train.csv (< 1 MB): 100%|██████████| 461k/461k [00:00<00:00, 15.1MB/s]\n\n\nUploading test.csv (< 1 MB): 100%|██████████| 451k/451k [00:00<00:00, 8.24MB/s]\n\n\nUploading data_description.txt (< 1 MB): 100%|██████████| 14.4k/14.4k [00:00<00:00, 1.26MB/s]\n\n\nUploading data (0.93 MBs): 100%|██████████| 926841/926841 [00:00<00:00, 10821325.34it/s]\n\n\n"
        },
        {
          "output_type": "execute_result",
          "execution_count": 84,
          "data": {
            "text/plain": "Data({'path': 'azureml://subscriptions/ad5c3a0e-2e80-43f8-a0e0-2cb6463d9e1e/resourcegroups/rg-house-prices-e2e/workspaces/mlw-house-prices-e2e-zaq12wsx/datastores/workspaceblobstore/paths/LocalUpload/354d05cda122399f3a749ed479c47948/data/', 'skip_validation': False, 'mltable_schema_url': None, 'referenced_uris': None, 'type': 'uri_folder', 'is_anonymous': False, 'auto_increment_version': False, 'auto_delete_setting': None, 'name': 'data-dir', 'description': 'data directory', 'tags': {}, 'properties': {}, 'print_as_yaml': False, 'id': '/subscriptions/ad5c3a0e-2e80-43f8-a0e0-2cb6463d9e1e/resourceGroups/rg-house-prices-e2e/providers/Microsoft.MachineLearningServices/workspaces/mlw-house-prices-e2e-zaq12wsx/data/data-dir/versions/6', 'Resource__source_path': '', 'base_path': '/mnt/batch/tasks/shared/LS_root/mounts/clusters/ci-zaq12wsx/code/Users/jacekgrela/house-prices-azure-ml/house-prices-e2e-v2.1', 'creation_context': <azure.ai.ml.entities._system_data.SystemData object at 0x7f2b454e5760>, 'serialize': <msrest.serialization.Serializer object at 0x7f2b454e5b50>, 'version': '6', 'latest_version': None, 'datastore': None})"
          },
          "metadata": {}
        }
      ],
      "execution_count": 84,
      "metadata": {
        "gather": {
          "logged": 1725729961036
        }
      }
    },
    {
      "cell_type": "code",
      "source": [
        "data = ml_client.data.list()\n",
        "for datum in data:\n",
        "    print(datum.name)"
      ],
      "outputs": [
        {
          "output_type": "stream",
          "name": "stdout",
          "text": "training-data\ntest-data\ndata-desc\ndata-dir\n"
        }
      ],
      "execution_count": 85,
      "metadata": {
        "jupyter": {
          "source_hidden": false,
          "outputs_hidden": false
        },
        "nteract": {
          "transient": {
            "deleting": false
          }
        },
        "gather": {
          "logged": 1725729969485
        }
      }
    },
    {
      "cell_type": "code",
      "source": [
        "import pandas as pd\n",
        "\n",
        "credential = DefaultAzureCredential()\n",
        "credential.get_token(\"https://management.azure.com/.default\")\n",
        "ml_client = MLClient.from_config(credential=credential)\n",
        "data_asset = ml_client.data.get(\"training-data\",version=6)\n",
        "\n",
        "pd.read_csv(data_asset.path).head()"
      ],
      "outputs": [
        {
          "output_type": "stream",
          "name": "stderr",
          "text": "Found the config file in: /config.json\n"
        },
        {
          "output_type": "execute_result",
          "execution_count": 86,
          "data": {
            "text/plain": "   Id  MSSubClass MSZoning  LotFrontage  LotArea Street Alley LotShape  \\\n0   1          60       RL         65.0     8450   Pave   NaN      Reg   \n1   2          20       RL         80.0     9600   Pave   NaN      Reg   \n2   3          60       RL         68.0    11250   Pave   NaN      IR1   \n3   4          70       RL         60.0     9550   Pave   NaN      IR1   \n4   5          60       RL         84.0    14260   Pave   NaN      IR1   \n\n  LandContour Utilities  ... PoolArea PoolQC Fence MiscFeature MiscVal MoSold  \\\n0         Lvl    AllPub  ...        0    NaN   NaN         NaN       0      2   \n1         Lvl    AllPub  ...        0    NaN   NaN         NaN       0      5   \n2         Lvl    AllPub  ...        0    NaN   NaN         NaN       0      9   \n3         Lvl    AllPub  ...        0    NaN   NaN         NaN       0      2   \n4         Lvl    AllPub  ...        0    NaN   NaN         NaN       0     12   \n\n  YrSold  SaleType  SaleCondition  SalePrice  \n0   2008        WD         Normal     208500  \n1   2007        WD         Normal     181500  \n2   2008        WD         Normal     223500  \n3   2006        WD        Abnorml     140000  \n4   2008        WD         Normal     250000  \n\n[5 rows x 81 columns]",
            "text/html": "<div>\n<style scoped>\n    .dataframe tbody tr th:only-of-type {\n        vertical-align: middle;\n    }\n\n    .dataframe tbody tr th {\n        vertical-align: top;\n    }\n\n    .dataframe thead th {\n        text-align: right;\n    }\n</style>\n<table border=\"1\" class=\"dataframe\">\n  <thead>\n    <tr style=\"text-align: right;\">\n      <th></th>\n      <th>Id</th>\n      <th>MSSubClass</th>\n      <th>MSZoning</th>\n      <th>LotFrontage</th>\n      <th>LotArea</th>\n      <th>Street</th>\n      <th>Alley</th>\n      <th>LotShape</th>\n      <th>LandContour</th>\n      <th>Utilities</th>\n      <th>...</th>\n      <th>PoolArea</th>\n      <th>PoolQC</th>\n      <th>Fence</th>\n      <th>MiscFeature</th>\n      <th>MiscVal</th>\n      <th>MoSold</th>\n      <th>YrSold</th>\n      <th>SaleType</th>\n      <th>SaleCondition</th>\n      <th>SalePrice</th>\n    </tr>\n  </thead>\n  <tbody>\n    <tr>\n      <th>0</th>\n      <td>1</td>\n      <td>60</td>\n      <td>RL</td>\n      <td>65.0</td>\n      <td>8450</td>\n      <td>Pave</td>\n      <td>NaN</td>\n      <td>Reg</td>\n      <td>Lvl</td>\n      <td>AllPub</td>\n      <td>...</td>\n      <td>0</td>\n      <td>NaN</td>\n      <td>NaN</td>\n      <td>NaN</td>\n      <td>0</td>\n      <td>2</td>\n      <td>2008</td>\n      <td>WD</td>\n      <td>Normal</td>\n      <td>208500</td>\n    </tr>\n    <tr>\n      <th>1</th>\n      <td>2</td>\n      <td>20</td>\n      <td>RL</td>\n      <td>80.0</td>\n      <td>9600</td>\n      <td>Pave</td>\n      <td>NaN</td>\n      <td>Reg</td>\n      <td>Lvl</td>\n      <td>AllPub</td>\n      <td>...</td>\n      <td>0</td>\n      <td>NaN</td>\n      <td>NaN</td>\n      <td>NaN</td>\n      <td>0</td>\n      <td>5</td>\n      <td>2007</td>\n      <td>WD</td>\n      <td>Normal</td>\n      <td>181500</td>\n    </tr>\n    <tr>\n      <th>2</th>\n      <td>3</td>\n      <td>60</td>\n      <td>RL</td>\n      <td>68.0</td>\n      <td>11250</td>\n      <td>Pave</td>\n      <td>NaN</td>\n      <td>IR1</td>\n      <td>Lvl</td>\n      <td>AllPub</td>\n      <td>...</td>\n      <td>0</td>\n      <td>NaN</td>\n      <td>NaN</td>\n      <td>NaN</td>\n      <td>0</td>\n      <td>9</td>\n      <td>2008</td>\n      <td>WD</td>\n      <td>Normal</td>\n      <td>223500</td>\n    </tr>\n    <tr>\n      <th>3</th>\n      <td>4</td>\n      <td>70</td>\n      <td>RL</td>\n      <td>60.0</td>\n      <td>9550</td>\n      <td>Pave</td>\n      <td>NaN</td>\n      <td>IR1</td>\n      <td>Lvl</td>\n      <td>AllPub</td>\n      <td>...</td>\n      <td>0</td>\n      <td>NaN</td>\n      <td>NaN</td>\n      <td>NaN</td>\n      <td>0</td>\n      <td>2</td>\n      <td>2006</td>\n      <td>WD</td>\n      <td>Abnorml</td>\n      <td>140000</td>\n    </tr>\n    <tr>\n      <th>4</th>\n      <td>5</td>\n      <td>60</td>\n      <td>RL</td>\n      <td>84.0</td>\n      <td>14260</td>\n      <td>Pave</td>\n      <td>NaN</td>\n      <td>IR1</td>\n      <td>Lvl</td>\n      <td>AllPub</td>\n      <td>...</td>\n      <td>0</td>\n      <td>NaN</td>\n      <td>NaN</td>\n      <td>NaN</td>\n      <td>0</td>\n      <td>12</td>\n      <td>2008</td>\n      <td>WD</td>\n      <td>Normal</td>\n      <td>250000</td>\n    </tr>\n  </tbody>\n</table>\n<p>5 rows × 81 columns</p>\n</div>"
          },
          "metadata": {}
        }
      ],
      "execution_count": 86,
      "metadata": {
        "jupyter": {
          "source_hidden": false,
          "outputs_hidden": false
        },
        "nteract": {
          "transient": {
            "deleting": false
          }
        },
        "gather": {
          "logged": 1725729989256
        }
      }
    },
    {
      "cell_type": "code",
      "source": [
        "credential = DefaultAzureCredential()\n",
        "credential.get_token(\"https://management.azure.com/.default\")\n",
        "ml_client = MLClient.from_config(credential=credential)\n",
        "data_asset = ml_client.data.get(\"test-data\", version=6)\n",
        "\n",
        "pd.read_csv(data_asset.path).head()"
      ],
      "outputs": [
        {
          "output_type": "stream",
          "name": "stderr",
          "text": "Found the config file in: /config.json\n"
        },
        {
          "output_type": "execute_result",
          "execution_count": 87,
          "data": {
            "text/plain": "     Id  MSSubClass MSZoning  LotFrontage  LotArea Street Alley LotShape  \\\n0  1461          20       RH         80.0    11622   Pave   NaN      Reg   \n1  1462          20       RL         81.0    14267   Pave   NaN      IR1   \n2  1463          60       RL         74.0    13830   Pave   NaN      IR1   \n3  1464          60       RL         78.0     9978   Pave   NaN      IR1   \n4  1465         120       RL         43.0     5005   Pave   NaN      IR1   \n\n  LandContour Utilities  ... ScreenPorch PoolArea PoolQC  Fence MiscFeature  \\\n0         Lvl    AllPub  ...         120        0    NaN  MnPrv         NaN   \n1         Lvl    AllPub  ...           0        0    NaN    NaN        Gar2   \n2         Lvl    AllPub  ...           0        0    NaN  MnPrv         NaN   \n3         Lvl    AllPub  ...           0        0    NaN    NaN         NaN   \n4         HLS    AllPub  ...         144        0    NaN    NaN         NaN   \n\n  MiscVal MoSold  YrSold  SaleType  SaleCondition  \n0       0      6    2010        WD         Normal  \n1   12500      6    2010        WD         Normal  \n2       0      3    2010        WD         Normal  \n3       0      6    2010        WD         Normal  \n4       0      1    2010        WD         Normal  \n\n[5 rows x 80 columns]",
            "text/html": "<div>\n<style scoped>\n    .dataframe tbody tr th:only-of-type {\n        vertical-align: middle;\n    }\n\n    .dataframe tbody tr th {\n        vertical-align: top;\n    }\n\n    .dataframe thead th {\n        text-align: right;\n    }\n</style>\n<table border=\"1\" class=\"dataframe\">\n  <thead>\n    <tr style=\"text-align: right;\">\n      <th></th>\n      <th>Id</th>\n      <th>MSSubClass</th>\n      <th>MSZoning</th>\n      <th>LotFrontage</th>\n      <th>LotArea</th>\n      <th>Street</th>\n      <th>Alley</th>\n      <th>LotShape</th>\n      <th>LandContour</th>\n      <th>Utilities</th>\n      <th>...</th>\n      <th>ScreenPorch</th>\n      <th>PoolArea</th>\n      <th>PoolQC</th>\n      <th>Fence</th>\n      <th>MiscFeature</th>\n      <th>MiscVal</th>\n      <th>MoSold</th>\n      <th>YrSold</th>\n      <th>SaleType</th>\n      <th>SaleCondition</th>\n    </tr>\n  </thead>\n  <tbody>\n    <tr>\n      <th>0</th>\n      <td>1461</td>\n      <td>20</td>\n      <td>RH</td>\n      <td>80.0</td>\n      <td>11622</td>\n      <td>Pave</td>\n      <td>NaN</td>\n      <td>Reg</td>\n      <td>Lvl</td>\n      <td>AllPub</td>\n      <td>...</td>\n      <td>120</td>\n      <td>0</td>\n      <td>NaN</td>\n      <td>MnPrv</td>\n      <td>NaN</td>\n      <td>0</td>\n      <td>6</td>\n      <td>2010</td>\n      <td>WD</td>\n      <td>Normal</td>\n    </tr>\n    <tr>\n      <th>1</th>\n      <td>1462</td>\n      <td>20</td>\n      <td>RL</td>\n      <td>81.0</td>\n      <td>14267</td>\n      <td>Pave</td>\n      <td>NaN</td>\n      <td>IR1</td>\n      <td>Lvl</td>\n      <td>AllPub</td>\n      <td>...</td>\n      <td>0</td>\n      <td>0</td>\n      <td>NaN</td>\n      <td>NaN</td>\n      <td>Gar2</td>\n      <td>12500</td>\n      <td>6</td>\n      <td>2010</td>\n      <td>WD</td>\n      <td>Normal</td>\n    </tr>\n    <tr>\n      <th>2</th>\n      <td>1463</td>\n      <td>60</td>\n      <td>RL</td>\n      <td>74.0</td>\n      <td>13830</td>\n      <td>Pave</td>\n      <td>NaN</td>\n      <td>IR1</td>\n      <td>Lvl</td>\n      <td>AllPub</td>\n      <td>...</td>\n      <td>0</td>\n      <td>0</td>\n      <td>NaN</td>\n      <td>MnPrv</td>\n      <td>NaN</td>\n      <td>0</td>\n      <td>3</td>\n      <td>2010</td>\n      <td>WD</td>\n      <td>Normal</td>\n    </tr>\n    <tr>\n      <th>3</th>\n      <td>1464</td>\n      <td>60</td>\n      <td>RL</td>\n      <td>78.0</td>\n      <td>9978</td>\n      <td>Pave</td>\n      <td>NaN</td>\n      <td>IR1</td>\n      <td>Lvl</td>\n      <td>AllPub</td>\n      <td>...</td>\n      <td>0</td>\n      <td>0</td>\n      <td>NaN</td>\n      <td>NaN</td>\n      <td>NaN</td>\n      <td>0</td>\n      <td>6</td>\n      <td>2010</td>\n      <td>WD</td>\n      <td>Normal</td>\n    </tr>\n    <tr>\n      <th>4</th>\n      <td>1465</td>\n      <td>120</td>\n      <td>RL</td>\n      <td>43.0</td>\n      <td>5005</td>\n      <td>Pave</td>\n      <td>NaN</td>\n      <td>IR1</td>\n      <td>HLS</td>\n      <td>AllPub</td>\n      <td>...</td>\n      <td>144</td>\n      <td>0</td>\n      <td>NaN</td>\n      <td>NaN</td>\n      <td>NaN</td>\n      <td>0</td>\n      <td>1</td>\n      <td>2010</td>\n      <td>WD</td>\n      <td>Normal</td>\n    </tr>\n  </tbody>\n</table>\n<p>5 rows × 80 columns</p>\n</div>"
          },
          "metadata": {}
        }
      ],
      "execution_count": 87,
      "metadata": {
        "jupyter": {
          "source_hidden": false,
          "outputs_hidden": false
        },
        "nteract": {
          "transient": {
            "deleting": false
          }
        },
        "gather": {
          "logged": 1725729996378
        }
      }
    },
    {
      "cell_type": "code",
      "source": [
        "import os\n",
        "\n",
        "credential = DefaultAzureCredential()\n",
        "credential.get_token(\"https://management.azure.com/.default\")\n",
        "ml_client = MLClient.from_config(credential=credential)\n",
        "data_asset = ml_client.data.get(\"data-desc\", version=6)\n",
        "\n",
        "# txt file must be downloaded to be read (???)\n",
        "import azure.ai.ml._artifacts._artifact_utilities as artifact_utils\n",
        "artifact_utils.download_artifact_from_aml_uri(data_asset.path, \n",
        "destination ='.', \n",
        "datastore_operation=ml_client.datastores)\n",
        "\n",
        "with open('./data_description.txt','r') as fp:\n",
        "    for line in fp.readlines():\n",
        "        print(line)\n",
        "\n",
        "os.remove('./data_description.txt')"
      ],
      "outputs": [
        {
          "output_type": "stream",
          "name": "stderr",
          "text": "Found the config file in: /config.json\n"
        },
        {
          "output_type": "stream",
          "name": "stdout",
          "text": "CAT NOMINAL\n\nMSSubClass: Identifies the type of dwelling involved in the sale.\n\n\n\n        20\t1-STORY 1946 & NEWER ALL STYLES\n\n        30\t1-STORY 1945 & OLDER\n\n        40\t1-STORY W/FINISHED ATTIC ALL AGES\n\n        45\t1-1/2 STORY - UNFINISHED ALL AGES\n\n        50\t1-1/2 STORY FINISHED ALL AGES\n\n        60\t2-STORY 1946 & NEWER\n\n        70\t2-STORY 1945 & OLDER\n\n        75\t2-1/2 STORY ALL AGES\n\n        80\tSPLIT OR MULTI-LEVEL\n\n        85\tSPLIT FOYER\n\n        90\tDUPLEX - ALL STYLES AND AGES\n\n       120\t1-STORY PUD (Planned Unit Development) - 1946 & NEWER\n\n       150\t1-1/2 STORY PUD - ALL AGES\n\n       160\t2-STORY PUD - 1946 & NEWER\n\n       180\tPUD - MULTILEVEL - INCL SPLIT LEV/FOYER\n\n       190\t2 FAMILY CONVERSION - ALL STYLES AND AGES\n\n\n\nCAT NOMINAL\n\nMSZoning: Identifies the general zoning classification of the sale.\n\n\t\t\n\n       A\tAgriculture\n\n       C\tCommercial\n\n       FV\tFloating Village Residential\n\n       I\tIndustrial\n\n       RH\tResidential High Density\n\n       RL\tResidential Low Density\n\n       RP\tResidential Low Density Park \n\n       RM\tResidential Medium Density\n\n\n\nQUANT CONT RATIO\n\nLotFrontage: Linear feet of street connected to property\n\n\n\nQUANT CONT RATIO\n\nLotArea: Lot size in square feet\n\n\n\nCAT NOMINAL\n\nStreet: Type of road access to property\n\n\n\n       Grvl\tGravel\t\n\n       Pave\tPaved\n\n\n\nCAT NOMINAL\n\nAlley: Type of alley access to property\n\n\n\n       Grvl\tGravel\n\n       Pave\tPaved\n\n       NA \tNo alley access\n\n\n\nCAT ORDINAL\n\nLotShape: General shape of property\n\n\n\n       Reg\tRegular\t\n\n       IR1\tSlightly irregular\n\n       IR2\tModerately Irregular\n\n       IR3\tIrregular\n\n\n\nCAT NOMINAL\n\nLandContour: Flatness of the property\n\n\n\n       Lvl\tNear Flat/Level\t\n\n       Bnk\tBanked - Quick and significant rise from street grade to building\n\n       HLS\tHillside - Significant slope from side to side\n\n       Low\tDepression\n\n\n\nCAT ORDINAL\n\nUtilities: Type of utilities available\n\n\t\t\n\n       AllPub\tAll public Utilities (E,G,W,& S)\t\n\n       NoSewr\tElectricity, Gas, and Water (Septic Tank)\n\n       NoSeWa\tElectricity and Gas Only\n\n       ELO\tElectricity only\t\n\n\n\nCAT NOMINAL\n\nLotConfig: Lot configuration\n\n\n\n       Inside\tInside lot\n\n       Corner\tCorner lot\n\n       CulDSac\tCul-de-sac\n\n       FR2\tFrontage on 2 sides of property\n\n       FR3\tFrontage on 3 sides of property\n\n\n\nCAT ORDINAL\n\nLandSlope: Slope of property\n\n\t\t\n\n       Gtl\tGentle slope\n\n       Mod\tModerate Slope\t\n\n       Sev\tSevere Slope\n\n\n\nCAT NOMINAL\n\nNeighborhood: Physical locations within Ames city limits\n\n\n\n       Blmngtn\tBloomington Heights\n\n       Blueste\tBluestem\n\n       BrDale\tBriardale\n\n       BrkSide\tBrookside\n\n       ClearCr\tClear Creek\n\n       CollgCr\tCollege Creek\n\n       Crawfor\tCrawford\n\n       Edwards\tEdwards\n\n       Gilbert\tGilbert\n\n       IDOTRR\tIowa DOT and Rail Road\n\n       MeadowV\tMeadow Village\n\n       Mitchel\tMitchell\n\n       Names\tNorth Ames\n\n       NoRidge\tNorthridge\n\n       NPkVill\tNorthpark Villa\n\n       NridgHt\tNorthridge Heights\n\n       NWAmes\tNorthwest Ames\n\n       OldTown\tOld Town\n\n       SWISU\tSouth & West of Iowa State University\n\n       Sawyer\tSawyer\n\n       SawyerW\tSawyer West\n\n       Somerst\tSomerset\n\n       StoneBr\tStone Brook\n\n       Timber\tTimberland\n\n       Veenker\tVeenker\n\n\n\nCAT NOMINAL\n\nCondition1: Proximity to various conditions\n\n\t\n\n       Artery\tAdjacent to arterial street\n\n       Feedr\tAdjacent to feeder street\t\n\n       Norm\tNormal\t\n\n       RRNn\tWithin 200' of North-South Railroad\n\n       RRAn\tAdjacent to North-South Railroad\n\n       PosN\tNear positive off-site feature--park, greenbelt, etc.\n\n       PosA\tAdjacent to postive off-site feature\n\n       RRNe\tWithin 200' of East-West Railroad\n\n       RRAe\tAdjacent to East-West Railroad\n\n\n\nCAT NOMINAL\n\nCondition2: Proximity to various conditions (if more than one is present)\n\n\t\t\n\n       Artery\tAdjacent to arterial street\n\n       Feedr\tAdjacent to feeder street\t\n\n       Norm\tNormal\t\n\n       RRNn\tWithin 200' of North-South Railroad\n\n       RRAn\tAdjacent to North-South Railroad\n\n       PosN\tNear positive off-site feature--park, greenbelt, etc.\n\n       PosA\tAdjacent to postive off-site feature\n\n       RRNe\tWithin 200' of East-West Railroad\n\n       RRAe\tAdjacent to East-West Railroad\n\n\n\nCAT NOMINAL\n\nBldgType: Type of dwelling\n\n\t\t\n\n       1Fam\tSingle-family Detached\t\n\n       2FmCon\tTwo-family Conversion; originally built as one-family dwelling\n\n       Duplx\tDuplex\n\n       TwnhsE\tTownhouse End Unit\n\n       TwnhsI\tTownhouse Inside Unit\n\n\n\nCAT NOMINAL\n\nHouseStyle: Style of dwelling\n\n\t\n\n       1Story\tOne story\n\n       1.5Fin\tOne and one-half story: 2nd level finished\n\n       1.5Unf\tOne and one-half story: 2nd level unfinished\n\n       2Story\tTwo story\n\n       2.5Fin\tTwo and one-half story: 2nd level finished\n\n       2.5Unf\tTwo and one-half story: 2nd level unfinished\n\n       SFoyer\tSplit Foyer\n\n       SLvl\tSplit Level\n\n\t\n\nCAT ORDINAL\n\nOverallQual: Rates the overall material and finish of the house\n\n\n\n       10\tVery Excellent\n\n       9\tExcellent\n\n       8\tVery Good\n\n       7\tGood\n\n       6\tAbove Average\n\n       5\tAverage\n\n       4\tBelow Average\n\n       3\tFair\n\n       2\tPoor\n\n       1\tVery Poor\n\n\n\nCAT ORDINAL\n\nOverallCond: Rates the overall condition of the house\n\n\n\n       10\tVery Excellent\n\n       9\tExcellent\n\n       8\tVery Good\n\n       7\tGood\n\n       6\tAbove Average\t\n\n       5\tAverage\n\n       4\tBelow Average\t\n\n       3\tFair\n\n       2\tPoor\n\n       1\tVery Poor\n\n\n\nQUANT DISC INTERVAL\n\nYearBuilt: Original construction date\n\n\n\nQUANT DISC INTERVAL\n\nYearRemodAdd: Remodel date (same as construction date if no remodeling or additions)\n\n\n\nCAT NOMINAL\n\nRoofStyle: Type of roof\n\n\n\n       Flat\tFlat\n\n       Gable\tGable\n\n       Gambrel\tGabrel (Barn)\n\n       Hip\tHip\n\n       Mansard\tMansard\n\n       Shed\tShed\n\n\t\t\n\nCAT NOMINAL\n\nRoofMatl: Roof material\n\n\n\n       ClyTile\tClay or Tile\n\n       CompShg\tStandard (Composite) Shingle\n\n       Membran\tMembrane\n\n       Metal\tMetal\n\n       Roll\tRoll\n\n       Tar&Grv\tGravel & Tar\n\n       WdShake\tWood Shakes\n\n       WdShngl\tWood Shingles\n\n\n\nCAT NOMINAL\n\nExterior1st: Exterior covering on house\n\n\n\n       AsbShng\tAsbestos Shingles\n\n       AsphShn\tAsphalt Shingles\n\n       BrkComm\tBrick Common\n\n       BrkFace\tBrick Face\n\n       CBlock\tCinder Block\n\n       CemntBd\tCement Board\n\n       HdBoard\tHard Board\n\n       ImStucc\tImitation Stucco\n\n       MetalSd\tMetal Siding\n\n       Other\tOther\n\n       Plywood\tPlywood\n\n       PreCast\tPreCast\t\n\n       Stone\tStone\n\n       Stucco\tStucco\n\n       VinylSd\tVinyl Siding\n\n       Wd Sdng\tWood Siding\n\n       WdShing\tWood Shingles\n\n\n\nCAT NOMINAL\n\nExterior2nd: Exterior covering on house (if more than one material)\n\n\n\n       AsbShng\tAsbestos Shingles\n\n       AsphShn\tAsphalt Shingles\n\n       BrkComm\tBrick Common\n\n       BrkFace\tBrick Face\n\n       CBlock\tCinder Block\n\n       CemntBd\tCement Board\n\n       HdBoard\tHard Board\n\n       ImStucc\tImitation Stucco\n\n       MetalSd\tMetal Siding\n\n       Other\tOther\n\n       Plywood\tPlywood\n\n       PreCast\tPreCast\n\n       Stone\tStone\n\n       Stucco\tStucco\n\n       VinylSd\tVinyl Siding\n\n       Wd Sdng\tWood Siding\n\n       WdShing\tWood Shingles\n\n\n\nCAT NOMINAL\n\nMasVnrType: Masonry veneer type\n\n\n\n       BrkCmn\tBrick Common\n\n       BrkFace\tBrick Face\n\n       CBlock\tCinder Block\n\n       None\tNone\n\n       Stone\tStone\n\n\n\nQUANT CONT RATIO\n\nMasVnrArea: Masonry veneer area in square feet\n\n\n\nCAT ORDINAL\n\nExterQual: Evaluates the quality of the material on the exterior \n\n\t\t\n\n       Ex\tExcellent\n\n       Gd\tGood\n\n       TA\tAverage/Typical\n\n       Fa\tFair\n\n       Po\tPoor\n\n\n\nCAT ORDINAL\n\nExterCond: Evaluates the present condition of the material on the exterior\n\n\t\t\n\n       Ex\tExcellent\n\n       Gd\tGood\n\n       TA\tAverage/Typical\n\n       Fa\tFair\n\n       Po\tPoor\n\n\n\nCAT NOMINAL\n\nFoundation: Type of foundation\n\n\t\t\n\n       BrkTil\tBrick & Tile\n\n       CBlock\tCinder Block\n\n       PConc\tPoured Contrete\t\n\n       Slab\tSlab\n\n       Stone\tStone\n\n       Wood\tWood\n\n\n\nCAT ORDINAL\n\nBsmtQual: Evaluates the height of the basement\n\n\n\n       Ex\tExcellent (100+ inches)\t\n\n       Gd\tGood (90-99 inches)\n\n       TA\tTypical (80-89 inches)\n\n       Fa\tFair (70-79 inches)\n\n       Po\tPoor (<70 inches)\n\n       NA\tNo Basement\n\n\n\nCAT ORDINAL\n\nBsmtCond: Evaluates the general condition of the basement\n\n\n\n       Ex\tExcellent\n\n       Gd\tGood\n\n       TA\tTypical - slight dampness allowed\n\n       Fa\tFair - dampness or some cracking or settling\n\n       Po\tPoor - Severe cracking, settling, or wetness\n\n       NA\tNo Basement\n\n\n\nCAT ORDINAL\n\nBsmtExposure: Refers to walkout or garden level walls\n\n\n\n       Gd\tGood Exposure\n\n       Av\tAverage Exposure (split levels or foyers typically score average or above)\t\n\n       Mn\tMimimum Exposure\n\n       No\tNo Exposure\n\n       NA\tNo Basement\n\n\n\nCAT ORDINAL\n\nBsmtFinType1: Rating of basement finished area\n\n\n\n       GLQ\tGood Living Quarters\n\n       ALQ\tAverage Living Quarters\n\n       BLQ\tBelow Average Living Quarters\t\n\n       Rec\tAverage Rec Room\n\n       LwQ\tLow Quality\n\n       Unf\tUnfinshed\n\n       NA\tNo Basement\n\n\n\nQUANT CONT RATIO\n\nBsmtFinSF1: Type 1 finished square feet\n\n\n\nCAT ORDINAL\n\nBsmtFinType2: Rating of basement finished area (if multiple types)\n\n\n\n       GLQ\tGood Living Quarters\n\n       ALQ\tAverage Living Quarters\n\n       BLQ\tBelow Average Living Quarters\t\n\n       Rec\tAverage Rec Room\n\n       LwQ\tLow Quality\n\n       Unf\tUnfinshed\n\n       NA\tNo Basement\n\n\n\nQUANT CONT RATIO\n\nBsmtFinSF2: Type 2 finished square feet\n\n\n\nQUANT CONT RATIO\n\nBsmtUnfSF: Unfinished square feet of basement area\n\n\n\nQUANT CONT RATIO\n\nTotalBsmtSF: Total square feet of basement area\n\n\n\nCAT NOMINAL\n\nHeating: Type of heating\n\n\t\t\n\n       Floor\tFloor Furnace\n\n       GasA\tGas forced warm air furnace\n\n       GasW\tGas hot water or steam heat\n\n       Grav\tGravity furnace\t\n\n       OthW\tHot water or steam heat other than gas\n\n       Wall\tWall furnace\n\n\n\nCAT ORDINAL\n\nHeatingQC: Heating quality and condition\n\n\n\n       Ex\tExcellent\n\n       Gd\tGood\n\n       TA\tAverage/Typical\n\n       Fa\tFair\n\n       Po\tPoor\n\n\t\t\n\nCAT BINARY\n\nCentralAir: Central air conditioning\n\n\n\n       N\tNo\n\n       Y\tYes\n\n\n\nCAT ORDINAL\n\nElectrical: Electrical system\n\n\n\n       SBrkr\tStandard Circuit Breakers & Romex\n\n       FuseA\tFuse Box over 60 AMP and all Romex wiring (Average)\t\n\n       FuseF\t60 AMP Fuse Box and mostly Romex wiring (Fair)\n\n       FuseP\t60 AMP Fuse Box and mostly knob & tube wiring (poor)\n\n       Mix\tMixed\n\n\t\t\n\nQUANT CONT RATIO\n\n1stFlrSF: First Floor square feet\n\n \n\nQUANT CONT RATIO\n\n2ndFlrSF: Second floor square feet\n\n\n\nQUANT CONT RATIO\n\nLowQualFinSF: Low quality finished square feet (all floors)\n\n\n\nQUANT CONT RATIO\n\nGrLivArea: Above grade (ground) living area square feet\n\n\n\nQUANT DISC RATIO\n\nBsmtFullBath: Basement full bathrooms\n\n\n\nQUANT DISC RATIO\n\nBsmtHalfBath: Basement half bathrooms\n\n\n\nQUANT DISC RATIO\n\nFullBath: Full bathrooms above grade\n\n\n\nQUANT DISC RATIO\n\nHalfBath: Half baths above grade\n\n\n\nQUANT DISC RATIO\n\nBedroomAbvGr: Bedrooms above grade (does NOT include basement bedrooms)\n\n\n\nQUANT DISC RATIO\n\nKitchenAbvGr: Kitchens above grade\n\n\n\nCAT ORDINAL\n\nKitchenQual: Kitchen quality\n\n\n\n       Ex\tExcellent\n\n       Gd\tGood\n\n       TA\tTypical/Average\n\n       Fa\tFair\n\n       Po\tPoor\n\n       \t\n\nQUANT DISC RATIO\n\nTotRmsAbvGrd: Total rooms above grade (does not include bathrooms)\n\n\n\nCAT ORDINAL\n\nFunctional: Home functionality (Assume typical unless deductions are warranted)\n\n\n\n       Typ\tTypical Functionality\n\n       Min1\tMinor Deductions 1\n\n       Min2\tMinor Deductions 2\n\n       Mod\tModerate Deductions\n\n       Maj1\tMajor Deductions 1\n\n       Maj2\tMajor Deductions 2\n\n       Sev\tSeverely Damaged\n\n       Sal\tSalvage only\n\n\n\nQUANT DISC RATIO\n\nFireplaces: Number of fireplaces\n\n\n\nCAT ORDINAL\n\nFireplaceQu: Fireplace quality\n\n\n\n       Ex\tExcellent - Exceptional Masonry Fireplace\n\n       Gd\tGood - Masonry Fireplace in main level\n\n       TA\tAverage - Prefabricated Fireplace in main living area or Masonry Fireplace in basement\n\n       Fa\tFair - Prefabricated Fireplace in basement\n\n       Po\tPoor - Ben Franklin Stove\n\n       NA\tNo Fireplace\n\n\n\nCAT NOMINAL\n\nGarageType: Garage location\n\n\t\t\n\n       2Types\tMore than one type of garage\n\n       Attchd\tAttached to home\n\n       Basment\tBasement Garage\n\n       BuiltIn\tBuilt-In (Garage part of house - typically has room above garage)\n\n       CarPort\tCar Port\n\n       Detchd\tDetached from home\n\n       NA\tNo Garage\n\n\n\nQUANT DISC INTERVAL\n\nGarageYrBlt: Year garage was built\n\n\n\nCAT NOMINAL\n\nGarageFinish: Interior finish of the garage\n\n\n\n       Fin\tFinished\n\n       RFn\tRough Finished\t\n\n       Unf\tUnfinished\n\n       NA\tNo Garage\n\n\n\nQUANT DISC RATIO\n\nGarageCars: Size of garage in car capacity\n\n\n\nQUANT DISC RATIO\n\nGarageArea: Size of garage in square feet\n\n\n\nCAT ORDINAL\n\nGarageQual: Garage quality\n\n\n\n       Ex\tExcellent\n\n       Gd\tGood\n\n       TA\tTypical/Average\n\n       Fa\tFair\n\n       Po\tPoor\n\n       NA\tNo Garage\n\n\t\t\n\nCAT ORDINAL        \n\nGarageCond: Garage condition\n\n\n\n       Ex\tExcellent\n\n       Gd\tGood\n\n       TA\tTypical/Average\n\n       Fa\tFair\n\n       Po\tPoor\n\n       NA\tNo Garage\n\n\n\nCAT NOMINAL\n\nPavedDrive: Paved driveway\n\n\n\n       Y\tPaved \n\n       P\tPartial Pavement\n\n       N\tDirt/Gravel\n\n\n\nQUANT CONT RATIO\n\nWoodDeckSF: Wood deck area in square feet\n\n\n\nQUANT CONT RATIO\n\nOpenPorchSF: Open porch area in square feet\n\n\n\nQUANT CONT RATIO\n\nEnclosedPorch: Enclosed porch area in square feet\n\n\n\nQUANT CONT RATIO\n\n3SsnPorch: Three season porch area in square feet\n\n\n\nQUANT CONT RATIO\n\nScreenPorch: Screen porch area in square feet\n\n\n\nQUANT CONT RATIO\n\nPoolArea: Pool area in square feet\n\n\n\nCAT ORDINAL\n\nPoolQC: Pool quality\n\n\t\t\n\n       Ex\tExcellent\n\n       Gd\tGood\n\n       TA\tAverage/Typical\n\n       Fa\tFair\n\n       NA\tNo Pool\n\n\t\t\n\nCAT ORDINAL\n\nFence: Fence quality\n\n\t\t\n\n       GdPrv\tGood Privacy\n\n       MnPrv\tMinimum Privacy\n\n       GdWo\tGood Wood\n\n       MnWw\tMinimum Wood/Wire\n\n       NA\tNo Fence\n\n\n\nCAT NOMINAL\n\nMiscFeature: Miscellaneous feature not covered in other categories\n\n\t\t\n\n       Elev\tElevator\n\n       Gar2\t2nd Garage (if not described in garage section)\n\n       Othr\tOther\n\n       Shed\tShed (over 100 SF)\n\n       TenC\tTennis Court\n\n       NA\tNone\n\n\n\nQUANT CONT RATIO\n\nMiscVal: $Value of miscellaneous feature\n\n\n\nQUANT DISC INTERVAL\n\nMoSold: Month Sold (MM)\n\n\n\nQUANT DISC INTERVAL\n\nYrSold: Year Sold (YYYY)\n\n\n\nCAT NOMINAL\n\nSaleType: Type of sale\n\n\t\t\n\n       WD \tWarranty Deed - Conventional\n\n       CWD\tWarranty Deed - Cash\n\n       VWD\tWarranty Deed - VA Loan\n\n       New\tHome just constructed and sold\n\n       COD\tCourt Officer Deed/Estate\n\n       Con\tContract 15% Down payment regular terms\n\n       ConLw\tContract Low Down payment and low interest\n\n       ConLI\tContract Low Interest\n\n       ConLD\tContract Low Down\n\n       Oth\tOther\n\n\n\nCAT NOMINAL\t\t\n\nSaleCondition: Condition of sale\n\n\n\n       Normal\tNormal Sale\n\n       Abnorml\tAbnormal Sale -  trade, foreclosure, short sale\n\n       AdjLand\tAdjoining Land Purchase\n\n       Alloca\tAllocation - two linked properties with separate deeds, typically condo with a garage unit\t\n\n       Family\tSale between family members\n\n       Partial\tHome was not completed when last assessed (associated with New Homes)\n\n"
        }
      ],
      "execution_count": 88,
      "metadata": {
        "jupyter": {
          "source_hidden": false,
          "outputs_hidden": false
        },
        "nteract": {
          "transient": {
            "deleting": false
          }
        },
        "gather": {
          "logged": 1725730004796
        }
      }
    },
    {
      "cell_type": "code",
      "source": [
        "# test\n",
        "\n",
        "from azure.ai.ml.entities import ManagedIdentityConfiguration\n",
        "from azure.ai.ml import MLClient, command, Input\n",
        "from azure.ai.ml.constants import AssetTypes, InputOutputModes\n",
        "from azure.identity import DefaultAzureCredential\n",
        "\n",
        "credential = DefaultAzureCredential()\n",
        "credential.get_token(\"https://management.azure.com/.default\")\n",
        "\n",
        "ml_client = MLClient.from_config(credential=credential)\n",
        "\n",
        "data_asset = ml_client.data.get(\"data-desc\", version=\"6\")\n",
        "\n",
        "identity = ManagedIdentityConfiguration()\n",
        "\n",
        "# to successfully create a job, customize the parameters below based on your workspace resources\n",
        "job = command(\n",
        "        command='head ${{inputs.data}}',\n",
        "        inputs={\n",
        "          \"data\": Input(path=data_asset.id,\n",
        "              type=AssetTypes.URI_FILE,\n",
        "              mode=InputOutputModes.RO_MOUNT\n",
        "              )\n",
        "          },\n",
        "        environment=\"azureml:AzureML-sklearn-1.0-ubuntu20.04-py38-cpu@latest\",\n",
        "        # identity = identity,\n",
        "        compute = \"aml-cluster\",\n",
        "        display_name = 'job-test', \n",
        "        experiment_name = 'job-test-exp'\n",
        "      )\n",
        "returned_job = ml_client.jobs.create_or_update(job)"
      ],
      "outputs": [
        {
          "output_type": "stream",
          "name": "stderr",
          "text": "Found the config file in: /config.json\n"
        }
      ],
      "execution_count": 89,
      "metadata": {
        "jupyter": {
          "source_hidden": false,
          "outputs_hidden": false
        },
        "nteract": {
          "transient": {
            "deleting": false
          }
        },
        "gather": {
          "logged": 1725730019605
        }
      }
    }
  ],
  "metadata": {
    "kernelspec": {
      "name": "python38-azureml",
      "language": "python",
      "display_name": "Python 3.8 - AzureML"
    },
    "language_info": {
      "name": "python",
      "version": "3.9.19",
      "mimetype": "text/x-python",
      "codemirror_mode": {
        "name": "ipython",
        "version": 3
      },
      "pygments_lexer": "ipython3",
      "nbconvert_exporter": "python",
      "file_extension": ".py"
    },
    "microsoft": {
      "ms_spell_check": {
        "ms_spell_check_language": "en"
      },
      "host": {
        "AzureML": {
          "notebookHasBeenCompleted": true
        }
      }
    },
    "kernel_info": {
      "name": "python38-azureml"
    },
    "nteract": {
      "version": "nteract-front-end@1.0.0"
    }
  },
  "nbformat": 4,
  "nbformat_minor": 2
}