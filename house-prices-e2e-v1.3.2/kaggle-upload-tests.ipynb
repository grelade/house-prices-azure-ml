{
 "cells": [
  {
   "cell_type": "code",
   "execution_count": 1,
   "metadata": {},
   "outputs": [],
   "source": [
    "import yaml\n",
    "\n",
    "from azure.identity import DefaultAzureCredential\n",
    "from azure.ai.ml import MLClient\n",
    "from azure.ai.ml import Input\n",
    "from azure.ai.ml import command\n"
   ]
  },
  {
   "cell_type": "code",
   "execution_count": 2,
   "metadata": {},
   "outputs": [
    {
     "name": "stderr",
     "output_type": "stream",
     "text": [
      "Found the config file in: /config.json\n"
     ]
    }
   ],
   "source": [
    "credential = DefaultAzureCredential()\n",
    "credential.get_token(\"https://management.azure.com/.default\")\n",
    "\n",
    "ml_client = MLClient.from_config(credential=credential)\n"
   ]
  },
  {
   "cell_type": "code",
   "execution_count": 22,
   "metadata": {},
   "outputs": [],
   "source": [
    "# Open the YAML file\n",
    "file_path = 'components/kaggle_upload/kaggle_upload.yml'\n",
    "with open(file_path, 'r') as file:\n",
    "    # Load the contents of the file\n",
    "    data = yaml.safe_load(file)\n"
   ]
  },
  {
   "cell_type": "code",
   "execution_count": 23,
   "metadata": {},
   "outputs": [],
   "source": [
    "# del data['name']\n",
    "# del data['version']\n",
    "# del data['display']\n",
    "\n",
    "# results_asset = ml_client.data.get(\"results_dir\",version=1)\n",
    "# results_path = results_asset.path\n",
    "# submission_file_path = results_path + 'sample_submission.csv'\n",
    "\n",
    "# data['inputs'] = {'submission_file': Input(type = 'uri_file', path = submission_file_path),\n",
    "#               'submission_message': 'aml_submission_msg'}\n",
    "# data['compute'] = \"aml-cluster\"\n",
    "# data['code'] = './components/kaggle_upload/'\n",
    "# data['display_name'] = 'kaggle_upload_test'\n",
    "# data['experiment_name'] = 'pipeline_component_tests'\n"
   ]
  },
  {
   "cell_type": "code",
   "execution_count": 24,
   "metadata": {},
   "outputs": [],
   "source": [
    "del data['name']\n",
    "del data['version']\n",
    "del data['display']\n",
    "\n",
    "results_asset = ml_client.data.get(\"results_dir\",version=1)\n",
    "results_path = results_asset.path\n",
    "\n",
    "data['inputs'] = {'results_dir': Input(type = 'uri_folder', path = results_path),\n",
    "              'submission_message': 'aml_submission_msg'}\n",
    "data['compute'] = \"aml-cluster\"\n",
    "data['code'] = './components/kaggle_upload/'\n",
    "data['display_name'] = 'kaggle_upload_test'\n",
    "data['experiment_name'] = 'pipeline_component_tests'\n"
   ]
  },
  {
   "cell_type": "code",
   "execution_count": 25,
   "metadata": {},
   "outputs": [],
   "source": [
    "job = command(**data)\n"
   ]
  },
  {
   "cell_type": "code",
   "execution_count": 26,
   "metadata": {},
   "outputs": [
    {
     "name": "stderr",
     "output_type": "stream",
     "text": [
      "\u001b[32mUploading kaggle_upload (0.0 MBs): 100%|██████████| 3259/3259 [00:00<00:00, 63717.73it/s]\n",
      "\u001b[39m\n",
      "\n"
     ]
    },
    {
     "data": {
      "text/plain": [
       "'https://ml.azure.com/runs/coral_watch_qxphlxczmt?wsid=/subscriptions/ad5c3a0e-2e80-43f8-a0e0-2cb6463d9e1e/resourcegroups/rg-house-prices-e2e/workspaces/mlw-house-prices-e2e-zaq12wsx&tid=6f2cb654-d755-4b1d-b2c4-b18e5c3e2442'"
      ]
     },
     "execution_count": 26,
     "metadata": {},
     "output_type": "execute_result"
    }
   ],
   "source": [
    "job_result = ml_client.create_or_update(job)\n",
    "job_result.studio_url\n"
   ]
  },
  {
   "cell_type": "code",
   "execution_count": null,
   "metadata": {},
   "outputs": [],
   "source": []
  }
 ],
 "metadata": {
  "kernelspec": {
   "display_name": "Python 3.8 - AzureML",
   "language": "python",
   "name": "python38-azureml"
  },
  "language_info": {
   "codemirror_mode": {
    "name": "ipython",
    "version": 3
   },
   "file_extension": ".py",
   "mimetype": "text/x-python",
   "name": "python",
   "nbconvert_exporter": "python",
   "pygments_lexer": "ipython3",
   "version": "3.9.19"
  }
 },
 "nbformat": 4,
 "nbformat_minor": 2
}
